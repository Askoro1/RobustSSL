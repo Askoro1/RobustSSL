{
 "cells": [
  {
   "cell_type": "markdown",
   "metadata": {},
   "source": [
    "# Utils"
   ]
  },
  {
   "cell_type": "markdown",
   "metadata": {},
   "source": [
    "**Импорты библиотек:**"
   ]
  },
  {
   "cell_type": "code",
   "execution_count": 1,
   "metadata": {
    "_cell_guid": "b1076dfc-b9ad-4769-8c92-a6c4dae69d19",
    "_uuid": "8f2839f25d086af736a60e9eeb907d3b93b6e0e5"
   },
   "outputs": [
    {
     "name": "stdout",
     "output_type": "stream",
     "text": [
      "\n",
      "\u001b[1m[\u001b[0m\u001b[34;49mnotice\u001b[0m\u001b[1;39;49m]\u001b[0m\u001b[39;49m A new release of pip is available: \u001b[0m\u001b[31;49m24.0\u001b[0m\u001b[39;49m -> \u001b[0m\u001b[32;49m24.3.1\u001b[0m\n",
      "\u001b[1m[\u001b[0m\u001b[34;49mnotice\u001b[0m\u001b[1;39;49m]\u001b[0m\u001b[39;49m To update, run: \u001b[0m\u001b[32;49mpython -m pip install --upgrade pip\u001b[0m\n",
      "\u001b[31mERROR: Could not find a version that satisfies the requirement torch==2.4.1+cu121 (from versions: 1.11.0, 1.12.0, 1.12.1, 1.13.0, 1.13.1, 2.0.0, 2.0.1, 2.1.0, 2.1.1, 2.1.2, 2.2.0, 2.2.1, 2.2.2, 2.3.0, 2.3.1, 2.4.0, 2.4.1, 2.5.0, 2.5.1)\u001b[0m\u001b[31m\n",
      "\u001b[0m\u001b[31mERROR: No matching distribution found for torch==2.4.1+cu121\u001b[0m\u001b[31m\n",
      "\u001b[0m\n",
      "\u001b[1m[\u001b[0m\u001b[34;49mnotice\u001b[0m\u001b[1;39;49m]\u001b[0m\u001b[39;49m A new release of pip is available: \u001b[0m\u001b[31;49m24.0\u001b[0m\u001b[39;49m -> \u001b[0m\u001b[32;49m24.3.1\u001b[0m\n",
      "\u001b[1m[\u001b[0m\u001b[34;49mnotice\u001b[0m\u001b[1;39;49m]\u001b[0m\u001b[39;49m To update, run: \u001b[0m\u001b[32;49mpython -m pip install --upgrade pip\u001b[0m\n",
      "\u001b[31mERROR: Ignored the following yanked versions: 0.1.6, 0.1.7, 0.1.8, 0.1.9, 0.2.0, 0.2.1, 0.2.2, 0.2.2.post2, 0.2.2.post3, 0.15.0\u001b[0m\u001b[31m\n",
      "\u001b[0m\u001b[31mERROR: Could not find a version that satisfies the requirement torchvision==0.19.1+cu121 (from versions: 0.12.0, 0.13.0, 0.13.1, 0.14.0, 0.14.1, 0.15.1, 0.15.2, 0.16.0, 0.16.1, 0.16.2, 0.17.0, 0.17.1, 0.17.2, 0.18.0, 0.18.1, 0.19.0, 0.19.1, 0.20.0, 0.20.1)\u001b[0m\u001b[31m\n",
      "\u001b[0m\u001b[31mERROR: No matching distribution found for torchvision==0.19.1+cu121\u001b[0m\u001b[31m\n",
      "\u001b[0m\n",
      "\u001b[1m[\u001b[0m\u001b[34;49mnotice\u001b[0m\u001b[1;39;49m]\u001b[0m\u001b[39;49m A new release of pip is available: \u001b[0m\u001b[31;49m24.0\u001b[0m\u001b[39;49m -> \u001b[0m\u001b[32;49m24.3.1\u001b[0m\n",
      "\u001b[1m[\u001b[0m\u001b[34;49mnotice\u001b[0m\u001b[1;39;49m]\u001b[0m\u001b[39;49m To update, run: \u001b[0m\u001b[32;49mpython -m pip install --upgrade pip\u001b[0m\n",
      "\n",
      "\u001b[1m[\u001b[0m\u001b[34;49mnotice\u001b[0m\u001b[1;39;49m]\u001b[0m\u001b[39;49m A new release of pip is available: \u001b[0m\u001b[31;49m24.0\u001b[0m\u001b[39;49m -> \u001b[0m\u001b[32;49m24.3.1\u001b[0m\n",
      "\u001b[1m[\u001b[0m\u001b[34;49mnotice\u001b[0m\u001b[1;39;49m]\u001b[0m\u001b[39;49m To update, run: \u001b[0m\u001b[32;49mpython -m pip install --upgrade pip\u001b[0m\n",
      "\n",
      "\u001b[1m[\u001b[0m\u001b[34;49mnotice\u001b[0m\u001b[1;39;49m]\u001b[0m\u001b[39;49m A new release of pip is available: \u001b[0m\u001b[31;49m24.0\u001b[0m\u001b[39;49m -> \u001b[0m\u001b[32;49m24.3.1\u001b[0m\n",
      "\u001b[1m[\u001b[0m\u001b[34;49mnotice\u001b[0m\u001b[1;39;49m]\u001b[0m\u001b[39;49m To update, run: \u001b[0m\u001b[32;49mpython -m pip install --upgrade pip\u001b[0m\n",
      "\n",
      "\u001b[1m[\u001b[0m\u001b[34;49mnotice\u001b[0m\u001b[1;39;49m]\u001b[0m\u001b[39;49m A new release of pip is available: \u001b[0m\u001b[31;49m24.0\u001b[0m\u001b[39;49m -> \u001b[0m\u001b[32;49m24.3.1\u001b[0m\n",
      "\u001b[1m[\u001b[0m\u001b[34;49mnotice\u001b[0m\u001b[1;39;49m]\u001b[0m\u001b[39;49m To update, run: \u001b[0m\u001b[32;49mpython -m pip install --upgrade pip\u001b[0m\n",
      "\u001b[31mERROR: pip's dependency resolver does not currently take into account all the packages that are installed. This behaviour is the source of the following dependency conflicts.\n",
      "jupyterlab-server 2.27.3 requires requests>=2.31, but you have requests 2.25.1 which is incompatible.\n",
      "ml-core-python-sdk 0.2.68 requires requests<3.0.0,>=2.26.0, but you have requests 2.25.1 which is incompatible.\n",
      "poetry 1.8.5 requires requests<3.0,>=2.26, but you have requests 2.25.1 which is incompatible.\n",
      "tinkoffpy 1.0.53 requires requests>=2.28.1, but you have requests 2.25.1 which is incompatible.\n",
      "types-requests 2.32.0.20241016 requires urllib3>=2, but you have urllib3 1.26.20 which is incompatible.\u001b[0m\u001b[31m\n",
      "\u001b[0m\n",
      "\u001b[1m[\u001b[0m\u001b[34;49mnotice\u001b[0m\u001b[1;39;49m]\u001b[0m\u001b[39;49m A new release of pip is available: \u001b[0m\u001b[31;49m24.0\u001b[0m\u001b[39;49m -> \u001b[0m\u001b[32;49m24.3.1\u001b[0m\n",
      "\u001b[1m[\u001b[0m\u001b[34;49mnotice\u001b[0m\u001b[1;39;49m]\u001b[0m\u001b[39;49m To update, run: \u001b[0m\u001b[32;49mpython -m pip install --upgrade pip\u001b[0m\n",
      "\n",
      "\u001b[1m[\u001b[0m\u001b[34;49mnotice\u001b[0m\u001b[1;39;49m]\u001b[0m\u001b[39;49m A new release of pip is available: \u001b[0m\u001b[31;49m24.0\u001b[0m\u001b[39;49m -> \u001b[0m\u001b[32;49m24.3.1\u001b[0m\n",
      "\u001b[1m[\u001b[0m\u001b[34;49mnotice\u001b[0m\u001b[1;39;49m]\u001b[0m\u001b[39;49m To update, run: \u001b[0m\u001b[32;49mpython -m pip install --upgrade pip\u001b[0m\n",
      "\n",
      "\u001b[1m[\u001b[0m\u001b[34;49mnotice\u001b[0m\u001b[1;39;49m]\u001b[0m\u001b[39;49m A new release of pip is available: \u001b[0m\u001b[31;49m24.0\u001b[0m\u001b[39;49m -> \u001b[0m\u001b[32;49m24.3.1\u001b[0m\n",
      "\u001b[1m[\u001b[0m\u001b[34;49mnotice\u001b[0m\u001b[1;39;49m]\u001b[0m\u001b[39;49m To update, run: \u001b[0m\u001b[32;49mpython -m pip install --upgrade pip\u001b[0m\n",
      "\n",
      "\u001b[1m[\u001b[0m\u001b[34;49mnotice\u001b[0m\u001b[1;39;49m]\u001b[0m\u001b[39;49m A new release of pip is available: \u001b[0m\u001b[31;49m24.0\u001b[0m\u001b[39;49m -> \u001b[0m\u001b[32;49m24.3.1\u001b[0m\n",
      "\u001b[1m[\u001b[0m\u001b[34;49mnotice\u001b[0m\u001b[1;39;49m]\u001b[0m\u001b[39;49m To update, run: \u001b[0m\u001b[32;49mpython -m pip install --upgrade pip\u001b[0m\n"
     ]
    }
   ],
   "source": [
    "!pip install -q tqdm==4.66.5\n",
    "!pip install -q torch==2.4.1+cu121\n",
    "!pip install -q torchvision==0.19.1+cu121\n",
    "!pip install -q transformers==4.44.2\n",
    "!pip install -q comet_ml==3.47.6\n",
    "!pip install -q triton==3.1.0\n",
    "!pip install -q torchattacks==3.5.1\n",
    "!pip install -q jax==0.4.38\n",
    "!pip install -q jaxlib==0.4.38\n",
    "!pip install -q seaborn"
   ]
  },
  {
   "cell_type": "code",
   "execution_count": 3,
   "metadata": {},
   "outputs": [],
   "source": [
    "import random\n",
    "\n",
    "import matplotlib.pyplot as plt\n",
    "import seaborn as sns\n",
    "\n",
    "import numpy as np\n",
    "import pandas as pd\n",
    "from PIL import Image\n",
    "from tqdm import tqdm\n",
    "import os\n",
    "\n",
    "import comet_ml\n",
    "\n",
    "import torch\n",
    "import torchvision\n",
    "from torchvision.transforms import v2\n",
    "import torchattacks\n",
    "from transformers import AutoImageProcessor, ViTModel, ViTConfig"
   ]
  },
  {
   "cell_type": "markdown",
   "metadata": {},
   "source": [
    "**Utils:**"
   ]
  },
  {
   "cell_type": "markdown",
   "metadata": {},
   "source": [
    "**Функция для фиксирования сида:**"
   ]
  },
  {
   "cell_type": "code",
   "execution_count": 4,
   "metadata": {},
   "outputs": [],
   "source": [
    "def seed_everything(seed):\n",
    "    random.seed(seed)\n",
    "    np.random.seed(seed)\n",
    "    torch.manual_seed(seed)\n",
    "    torch.cuda.manual_seed_all(seed)\n",
    "    torch.backends.cudnn.deterministic = True\n",
    "    torch.backends.cudnn.benchmark = False"
   ]
  },
  {
   "cell_type": "markdown",
   "metadata": {},
   "source": [
    "**Additional utils:**"
   ]
  },
  {
   "cell_type": "code",
   "execution_count": 5,
   "metadata": {},
   "outputs": [],
   "source": [
    "def get_root(env):\n",
    "    # supports env == \"colab\", env == \"kaggle\"\n",
    "    if env == \"kaggle\":\n",
    "        return \"/kaggle/working/\"\n",
    "    else:\n",
    "        return \"./\""
   ]
  },
  {
   "cell_type": "code",
   "execution_count": 6,
   "metadata": {},
   "outputs": [],
   "source": [
    "# this augmentation first converts PIL image to Tensor,\n",
    "# then casts resulting tensor to type=torch.float32,\n",
    "# finally normalizes the image\n",
    "\n",
    "default_aug = v2.Compose([v2.PILToTensor(),\n",
    "                          v2.ToDtype(torch.float32, scale=True),\n",
    "                          v2.Normalize(mean=[0.5, 0.5, 0.5], std=[0.5, 0.5, 0.5])])"
   ]
  },
  {
   "cell_type": "code",
   "execution_count": 7,
   "metadata": {},
   "outputs": [],
   "source": [
    "# This function is used later in DataLoaders to fix the seed setting bugs when using several workers\n",
    "\n",
    "def worker_init_fn(worker_id):\n",
    "    torch_seed = torch.initial_seed() % (2**32)\n",
    "    random.seed(torch_seed)\n",
    "    np.random.seed(torch_seed)"
   ]
  },
  {
   "cell_type": "markdown",
   "metadata": {},
   "source": [
    "**Датасет + DataLoaders:**"
   ]
  },
  {
   "cell_type": "code",
   "execution_count": 8,
   "metadata": {},
   "outputs": [],
   "source": [
    "def get_CIFAR10_data(batch_size, train_transform=default_aug, test_transform=default_aug, env=\"colab\"):\n",
    "    root = get_root(env)\n",
    "    data_train = torchvision.datasets.CIFAR10(root=root, train=True, transform=train_transform, download=True)\n",
    "    print(\"Prepare Train Set: ✅\")\n",
    "    data_test = torchvision.datasets.CIFAR10(root=root, train=False, transform=test_transform)\n",
    "    print(\"Prepare Test Set:  ✅\")\n",
    "    return data_train, data_test"
   ]
  },
  {
   "cell_type": "code",
   "execution_count": 9,
   "metadata": {},
   "outputs": [],
   "source": [
    "def get_CIFAR10_dataloaders(batch_size, train_transform=default_aug, test_transform=default_aug, env=\"colab\"):\n",
    "    root = get_root(env)\n",
    "    data_train = torchvision.datasets.CIFAR10(root=root, train=True, transform=train_transform, download=True)\n",
    "    dataloader_train = torch.utils.data.DataLoader(data_train, batch_size=batch_size, shuffle=True, num_workers=4, worker_init_fn=worker_init_fn)\n",
    "    print(\"Prepare Train Set: ✅\")\n",
    "    data_test = torchvision.datasets.CIFAR10(root=root, train=False, transform=test_transform)\n",
    "    dataloader_test = torch.utils.data.DataLoader(data_test, batch_size=batch_size, shuffle=False, num_workers=4, worker_init_fn=worker_init_fn)\n",
    "    print(\"Prepare Test Set:  ✅\")\n",
    "    return dataloader_train, dataloader_test"
   ]
  },
  {
   "cell_type": "markdown",
   "metadata": {},
   "source": [
    "**Код для обычного/adversarial Fine-Tuning'а (на одном GPU):**"
   ]
  },
  {
   "cell_type": "code",
   "execution_count": 12,
   "metadata": {},
   "outputs": [],
   "source": [
    "def eval_epoch(model, processor, loader, attack=None):\n",
    "    val_loss = 0.\n",
    "    val_acc = 0.\n",
    "\n",
    "    model.eval()\n",
    "\n",
    "    for data, target in tqdm(loader):\n",
    "        #data = processor(data, return_tensors=\"pt\")[\"pixel_values\"]\n",
    "        data = data.to(memory_format=torch.channels_last) # this line is for a speedup (used in a combination with amp)\n",
    "        data = data.to(device)\n",
    "        target = target.to(device)\n",
    "\n",
    "        if attack is not None:\n",
    "            # perform adversarial attack\n",
    "            with torch.enable_grad():\n",
    "                data = attack(data, target)\n",
    "        \n",
    "        logits = model(data)\n",
    "        loss = torch.nn.functional.cross_entropy(logits, target)\n",
    "\n",
    "        val_loss += (loss.item() * data.shape[0])\n",
    "        val_acc += (torch.argmax(logits, dim=1) == target).sum().item()\n",
    "\n",
    "    val_loss /= len(loader.dataset)\n",
    "    val_acc /= len(loader.dataset)\n",
    "    return val_loss, val_acc\n",
    "\n",
    "\n",
    "def train_epoch(model, processor, optimizer, loader, scaler, epoch, exp, is_attack_used=False):\n",
    "    train_loss = 0.\n",
    "    train_acc = 0.\n",
    "\n",
    "    step = (epoch - 1) * len(loader)\n",
    "\n",
    "    model.train()\n",
    "\n",
    "    for batch_idx, (data, target) in enumerate(tqdm(loader)):\n",
    "        #data = processor(data, return_tensors=\"pt\")[\"pixel_values\"]\n",
    "        data = data.to(memory_format=torch.channels_last) # this line is for a speedup (used in a combination with amp)\n",
    "        data = data.to(device)\n",
    "        target = target.to(device)\n",
    "\n",
    "        if is_attack_used != \"no\":\n",
    "            if is_attack_used == \"BIM\":\n",
    "                attack = torchattacks.BIM(model, eps=(4 / 255), alpha=(2 / 255), steps=5)\n",
    "            else:\n",
    "                attack = torchattacks.PGD(model, eps=(4 / 255), alpha=(2 / 255), steps=5)\n",
    "            # perform adversarial attack\n",
    "            data = attack(data, target)\n",
    "\n",
    "        optimizer.zero_grad()\n",
    "\n",
    "        with torch.autocast(\"cuda\", dtype=torch.float16, enabled=True):\n",
    "            logits = model(data)\n",
    "            loss = torch.nn.functional.cross_entropy(logits, target)\n",
    "\n",
    "        scaler.scale(loss).backward()\n",
    "        scaler.step(optimizer)\n",
    "        scaler.update()\n",
    "\n",
    "        with torch.no_grad():\n",
    "            train_loss += loss.item() * data.shape[0]\n",
    "            train_acc += (torch.argmax(logits, dim=1) == target).sum().item()\n",
    "\n",
    "        if exp is not None:\n",
    "            exp.log_metrics({\"train loss (by steps)\": loss.item()}, step=(step + batch_idx))\n",
    "\n",
    "    train_loss /= len(loader.dataset)\n",
    "    train_acc /= len(loader.dataset)\n",
    "    return train_loss, train_acc, scaler\n",
    "\n",
    "\n",
    "def train(model, processor, exp_name, optimizer, epochs, train_loader, val_loader, is_train_attack_used=\"no\", scheduler=None, exp=None, env=\"colab\"):\n",
    "    best_val_acc = 0.\n",
    "    best_val_acc_epoch = None\n",
    "    best_model_state_filepath = None\n",
    "\n",
    "    val_attacks_names = [\"No Attack\"]\n",
    "\n",
    "    scaler = torch.GradScaler(\"cuda\")\n",
    "\n",
    "    for epoch in range(1, epochs + 1):\n",
    "        print(f\"Epoch {epoch}:\\n\")\n",
    "        metrics = dict()\n",
    "        \n",
    "        train_loss, train_acc, scaler = train_epoch(model, processor, optimizer, train_loader, scaler, epoch, exp, is_attack_used=is_train_attack_used)\n",
    "\n",
    "        val_attacks = [None]\n",
    "        \n",
    "        for it in range(len(val_attacks)):\n",
    "            val_loss, val_acc = eval_epoch(model, processor, val_loader, attack=val_attacks[it])\n",
    "            metrics[val_attacks_names[it]] = {\"Loss\": val_loss, \"Accuracy\": val_acc}\n",
    "\n",
    "        if scheduler is not None:\n",
    "            scheduler.step()\n",
    "\n",
    "        print(\"\\n\")\n",
    "        print(\" Train:\")\n",
    "        print(f\"  Loss: {train_loss}, Accuracy: {train_acc}\")\n",
    "        print(\" Validation:\")\n",
    "        for it in metrics.items():\n",
    "            print(f\"  Loss: {it[1]['Loss']}, Accuracy: {it[1]['Accuracy']}\")\n",
    "\n",
    "\n",
    "        if exp is not None:\n",
    "            exp.log_metrics(\n",
    "                   {\"train loss\": train_loss,\n",
    "                    \"train accuracy\": train_acc},\n",
    "                    step=(epoch * len(train_loader)))\n",
    "            for it in metrics.items():\n",
    "                exp.log_metrics(\n",
    "                    {f\"validation loss ({it[0]})\": it[1]['Loss'],\n",
    "                     f\"validation accuracy ({it[0]})\": it[1]['Accuracy']},\n",
    "                     step=(epoch * len(train_loader)))\n",
    "\n",
    "        val_acc = metrics[\"No Attack\"][\"Accuracy\"]\n",
    "        \n",
    "        if val_acc > best_val_acc:\n",
    "            print(\"🎉🎉🎉 New Best Validation Accuracy 🎉🎉🎉\")\n",
    "            best_val_acc = val_acc\n",
    "            best_val_acc_epoch = epoch\n",
    "            filepath = f\"{get_root(env)}best_weights_{exp_name}_epoch{best_val_acc_epoch}.pth\"\n",
    "            torch.save(model.state_dict(), filepath)\n",
    "            print(\"Save State of the Best Model: ✅\")\n",
    "            if best_model_state_filepath is not None:\n",
    "                os.remove(best_model_state_filepath)\n",
    "                print(\"Delete State File of the Previous Best Model: ✅\")\n",
    "            best_model_state_filepath = filepath\n",
    "\n",
    "        print('-----------------------------------------------------------------\\n')\n",
    "\n",
    "    if exp is not None:\n",
    "        exp.log_model(name=best_model_state_filepath[len(get_root(env)):-4],\n",
    "                      file_or_folder=best_model_state_filepath)\n",
    "\n",
    "\n",
    "def test(model, processor, loader, env=\"colab\"):\n",
    "    attacks_names = [\"No Attack\", \"i-FGSM\", \"PGD\", \"DI-FGSM\"]\n",
    "    \n",
    "    metrics = dict()\n",
    "\n",
    "    attacks = [None, \n",
    "               torchattacks.BIM(model, eps=(8 / 255), alpha=(2 / 255), steps=10),\n",
    "               torchattacks.PGD(model, eps=(8 / 255), alpha=(2 / 255), steps=10),\n",
    "               torchattacks.DIFGSM(model, eps=(8 / 255), alpha=(2 / 255), steps=10, resize_rate=0.9, diversity_prob=0.5)\n",
    "              ]\n",
    "    \n",
    "    for it in range(len(attacks)):\n",
    "        loss, acc = eval_epoch(model, processor, loader, attack=attacks[it])\n",
    "        metrics[attacks_names[it]] = {\"Loss\": loss, \"Accuracy\": acc}\n",
    "\n",
    "    print(\"\\n\")\n",
    "    print(\"Final Metrics:\")\n",
    "    for it in metrics.items():\n",
    "        print(f\" {it[0]}:\")\n",
    "        print(f\"   Loss: {it[1]['Loss']}, Accuracy: {it[1]['Accuracy']}\")\n"
   ]
  },
  {
   "cell_type": "markdown",
   "metadata": {},
   "source": [
    "# Эксперименты"
   ]
  },
  {
   "cell_type": "code",
   "execution_count": 15,
   "metadata": {},
   "outputs": [],
   "source": [
    "class ViTClassifier(torch.nn.Module):\n",
    "    def __init__(self, encoder, num_classes):\n",
    "        super(ViTClassifier, self).__init__()\n",
    "        self.encoder = encoder\n",
    "        \n",
    "        head_hidden_dim = self.encoder.config.hidden_size * 2\n",
    "        \n",
    "        self.head = torch.nn.Sequential(\n",
    "            torch.nn.Linear(self.encoder.config.hidden_size, head_hidden_dim),\n",
    "            torch.nn.GELU(),\n",
    "            torch.nn.Linear(head_hidden_dim, num_classes)\n",
    "        )\n",
    "\n",
    "    def forward(self, x):\n",
    "        enc_features = self.encoder(x).last_hidden_state[:, 0, :]\n",
    "        logits = self.head(enc_features)\n",
    "        return logits"
   ]
  },
  {
   "cell_type": "markdown",
   "metadata": {},
   "source": [
    "**ViT (SFT):**"
   ]
  },
  {
   "cell_type": "code",
   "execution_count": 16,
   "metadata": {},
   "outputs": [
    {
     "name": "stdout",
     "output_type": "stream",
     "text": [
      "Please paste your Comet API key from https://www.comet.com/api/my/settings/\n",
      "(api key may not show as you type)\n"
     ]
    },
    {
     "name": "stdout",
     "output_type": "stream",
     "text": [
      "Comet API key:  ········\n"
     ]
    },
    {
     "name": "stderr",
     "output_type": "stream",
     "text": [
      "\u001b[1;38;5;39mCOMET INFO:\u001b[0m Valid Comet API Key saved in /home/mlcore/.comet.config (set COMET_CONFIG to change where it is saved).\n"
     ]
    }
   ],
   "source": [
    "comet_ml.login()"
   ]
  },
  {
   "cell_type": "code",
   "execution_count": 17,
   "metadata": {},
   "outputs": [],
   "source": [
    "# choose device for computing\n",
    "device = torch.device('cuda' if torch.cuda.is_available() else 'cpu')"
   ]
  },
  {
   "cell_type": "code",
   "execution_count": 18,
   "metadata": {},
   "outputs": [],
   "source": [
    "NUM_EPOCHS = 10\n",
    "BATCH_SIZE = 128\n",
    "exp_name = \"ViT_SFT\""
   ]
  },
  {
   "cell_type": "code",
   "execution_count": 19,
   "metadata": {},
   "outputs": [
    {
     "name": "stdout",
     "output_type": "stream",
     "text": [
      "Downloading https://www.cs.toronto.edu/~kriz/cifar-10-python.tar.gz to ./cifar-10-python.tar.gz\n"
     ]
    },
    {
     "name": "stderr",
     "output_type": "stream",
     "text": [
      "100%|██████████| 170M/170M [02:48<00:00, 1.01MB/s]   \n"
     ]
    },
    {
     "name": "stdout",
     "output_type": "stream",
     "text": [
      "Extracting ./cifar-10-python.tar.gz to ./\n",
      "Prepare Train Set: ✅\n",
      "Prepare Test Set:  ✅\n"
     ]
    },
    {
     "data": {
      "application/vnd.jupyter.widget-view+json": {
       "model_id": "a729eee890fd4006be9fd1accc12e843",
       "version_major": 2,
       "version_minor": 0
      },
      "text/plain": [
       "preprocessor_config.json:   0%|          | 0.00/160 [00:00<?, ?B/s]"
      ]
     },
     "metadata": {},
     "output_type": "display_data"
    },
    {
     "data": {
      "application/vnd.jupyter.widget-view+json": {
       "model_id": "334b8227322d4fceb7eb81a9e869134b",
       "version_major": 2,
       "version_minor": 0
      },
      "text/plain": [
       "config.json:   0%|          | 0.00/69.7k [00:00<?, ?B/s]"
      ]
     },
     "metadata": {},
     "output_type": "display_data"
    }
   ],
   "source": [
    "# random seed\n",
    "seed_everything(0)\n",
    "\n",
    "# get data and batchify it\n",
    "train_loader, test_loader = get_CIFAR10_dataloaders(batch_size=BATCH_SIZE, env=\"colab\")\n",
    "\n",
    "# model\n",
    "image_processor = AutoImageProcessor.from_pretrained(\"google/vit-base-patch16-224\", use_fast=True)\n",
    "\n",
    "vit_config = ViTConfig.from_pretrained(\"google/vit-base-patch16-224\")\n",
    "vit_config.image_size = 32\n",
    "vit_config.patch_size = 8\n",
    "encoder = ViTModel(vit_config)\n",
    "\n",
    "model = ViTClassifier(encoder=encoder, num_classes=10).to(memory_format=torch.channels_last)\n",
    "model.to(device)\n",
    "#model = torch.compile(model)\n",
    "\n",
    "# choose optimizer and scheduler (if needed)\n",
    "optimizer = torch.optim.Adam(model.parameters(), lr=1e-4, weight_decay=1e-3)\n",
    "\n",
    "scheduler = torch.optim.lr_scheduler.CosineAnnealingLR(optimizer, T_max=NUM_EPOCHS)"
   ]
  },
  {
   "cell_type": "code",
   "execution_count": 20,
   "metadata": {},
   "outputs": [
    {
     "name": "stderr",
     "output_type": "stream",
     "text": [
      "\u001b[1;38;5;214mCOMET WARNING:\u001b[0m As you are running in a Jupyter environment, you will need to call `experiment.end()` when finished to ensure all metrics and code are logged before exiting.\n",
      "\u001b[1;38;5;39mCOMET INFO:\u001b[0m Experiment is live on comet.com https://www.comet.com/askoro/ssl-adversarial1/5adcca5e063241dbb66cb86181d40bc2\n",
      "\n"
     ]
    },
    {
     "name": "stdout",
     "output_type": "stream",
     "text": [
      "Epoch 1:\n",
      "\n"
     ]
    },
    {
     "name": "stderr",
     "output_type": "stream",
     "text": [
      "\u001b[1;38;5;39mCOMET INFO:\u001b[0m Couldn't find a Git repository in '/workdir' nor in any parent directory. Set `COMET_GIT_DIRECTORY` if your Git Repository is elsewhere.\n",
      "100%|██████████| 391/391 [00:13<00:00, 29.17it/s]\n",
      "100%|██████████| 79/79 [00:01<00:00, 39.85it/s]\n"
     ]
    },
    {
     "name": "stdout",
     "output_type": "stream",
     "text": [
      "\n",
      "\n",
      " Train:\n",
      "  Loss: 1.761068134765625, Accuracy: 0.34798\n",
      " Validation:\n",
      "  Loss: 1.5888404243469239, Accuracy: 0.4244\n",
      "🎉🎉🎉 New Best Validation Accuracy 🎉🎉🎉\n",
      "Save State of the Best Model: ✅\n",
      "-----------------------------------------------------------------\n",
      "\n",
      "Epoch 2:\n",
      "\n"
     ]
    },
    {
     "name": "stderr",
     "output_type": "stream",
     "text": [
      "100%|██████████| 391/391 [00:12<00:00, 31.73it/s]\n",
      "100%|██████████| 79/79 [00:01<00:00, 44.11it/s]\n"
     ]
    },
    {
     "name": "stdout",
     "output_type": "stream",
     "text": [
      "\n",
      "\n",
      " Train:\n",
      "  Loss: 1.4606712136077882, Accuracy: 0.46748\n",
      " Validation:\n",
      "  Loss: 1.4219159925460816, Accuracy: 0.486\n",
      "🎉🎉🎉 New Best Validation Accuracy 🎉🎉🎉\n",
      "Save State of the Best Model: ✅\n",
      "Delete State File of the Previous Best Model: ✅\n",
      "-----------------------------------------------------------------\n",
      "\n",
      "Epoch 3:\n",
      "\n"
     ]
    },
    {
     "name": "stderr",
     "output_type": "stream",
     "text": [
      "100%|██████████| 391/391 [00:12<00:00, 32.09it/s]\n",
      "100%|██████████| 79/79 [00:01<00:00, 44.63it/s]\n"
     ]
    },
    {
     "name": "stdout",
     "output_type": "stream",
     "text": [
      "\n",
      "\n",
      " Train:\n",
      "  Loss: 1.3207179537582396, Accuracy: 0.51826\n",
      " Validation:\n",
      "  Loss: 1.3020580339431762, Accuracy: 0.5297\n",
      "🎉🎉🎉 New Best Validation Accuracy 🎉🎉🎉\n",
      "Save State of the Best Model: ✅\n",
      "Delete State File of the Previous Best Model: ✅\n",
      "-----------------------------------------------------------------\n",
      "\n",
      "Epoch 4:\n",
      "\n"
     ]
    },
    {
     "name": "stderr",
     "output_type": "stream",
     "text": [
      "100%|██████████| 391/391 [00:11<00:00, 32.95it/s]\n",
      "100%|██████████| 79/79 [00:01<00:00, 43.44it/s]\n"
     ]
    },
    {
     "name": "stdout",
     "output_type": "stream",
     "text": [
      "\n",
      "\n",
      " Train:\n",
      "  Loss: 1.221521138572693, Accuracy: 0.5552\n",
      " Validation:\n",
      "  Loss: 1.2670644250869751, Accuracy: 0.5396\n",
      "🎉🎉🎉 New Best Validation Accuracy 🎉🎉🎉\n",
      "Save State of the Best Model: ✅\n",
      "Delete State File of the Previous Best Model: ✅\n",
      "-----------------------------------------------------------------\n",
      "\n",
      "Epoch 5:\n",
      "\n"
     ]
    },
    {
     "name": "stderr",
     "output_type": "stream",
     "text": [
      "100%|██████████| 391/391 [00:11<00:00, 33.03it/s]\n",
      "100%|██████████| 79/79 [00:01<00:00, 43.58it/s]\n"
     ]
    },
    {
     "name": "stdout",
     "output_type": "stream",
     "text": [
      "\n",
      "\n",
      " Train:\n",
      "  Loss: 1.1416146393585205, Accuracy: 0.58658\n",
      " Validation:\n",
      "  Loss: 1.2489926736831665, Accuracy: 0.545\n",
      "🎉🎉🎉 New Best Validation Accuracy 🎉🎉🎉\n",
      "Save State of the Best Model: ✅\n",
      "Delete State File of the Previous Best Model: ✅\n",
      "-----------------------------------------------------------------\n",
      "\n",
      "Epoch 6:\n",
      "\n"
     ]
    },
    {
     "name": "stderr",
     "output_type": "stream",
     "text": [
      "100%|██████████| 391/391 [00:11<00:00, 33.20it/s]\n",
      "100%|██████████| 79/79 [00:01<00:00, 43.18it/s]\n"
     ]
    },
    {
     "name": "stdout",
     "output_type": "stream",
     "text": [
      "\n",
      "\n",
      " Train:\n",
      "  Loss: 1.0587507621574401, Accuracy: 0.61906\n",
      " Validation:\n",
      "  Loss: 1.2373735385894775, Accuracy: 0.5537\n",
      "🎉🎉🎉 New Best Validation Accuracy 🎉🎉🎉\n",
      "Save State of the Best Model: ✅\n",
      "Delete State File of the Previous Best Model: ✅\n",
      "-----------------------------------------------------------------\n",
      "\n",
      "Epoch 7:\n",
      "\n"
     ]
    },
    {
     "name": "stderr",
     "output_type": "stream",
     "text": [
      "100%|██████████| 391/391 [00:11<00:00, 32.79it/s]\n",
      "100%|██████████| 79/79 [00:01<00:00, 43.82it/s]\n"
     ]
    },
    {
     "name": "stdout",
     "output_type": "stream",
     "text": [
      "\n",
      "\n",
      " Train:\n",
      "  Loss: 0.9785292668533325, Accuracy: 0.648\n",
      " Validation:\n",
      "  Loss: 1.1568330541610718, Accuracy: 0.5892\n",
      "🎉🎉🎉 New Best Validation Accuracy 🎉🎉🎉\n",
      "Save State of the Best Model: ✅\n",
      "Delete State File of the Previous Best Model: ✅\n",
      "-----------------------------------------------------------------\n",
      "\n",
      "Epoch 8:\n",
      "\n"
     ]
    },
    {
     "name": "stderr",
     "output_type": "stream",
     "text": [
      "100%|██████████| 391/391 [00:11<00:00, 32.97it/s]\n",
      "100%|██████████| 79/79 [00:01<00:00, 44.93it/s]\n"
     ]
    },
    {
     "name": "stdout",
     "output_type": "stream",
     "text": [
      "\n",
      "\n",
      " Train:\n",
      "  Loss: 0.8959768917655945, Accuracy: 0.6782\n",
      " Validation:\n",
      "  Loss: 1.1473538763046265, Accuracy: 0.5942\n",
      "🎉🎉🎉 New Best Validation Accuracy 🎉🎉🎉\n",
      "Save State of the Best Model: ✅\n",
      "Delete State File of the Previous Best Model: ✅\n",
      "-----------------------------------------------------------------\n",
      "\n",
      "Epoch 9:\n",
      "\n"
     ]
    },
    {
     "name": "stderr",
     "output_type": "stream",
     "text": [
      "100%|██████████| 391/391 [00:12<00:00, 32.26it/s]\n",
      "100%|██████████| 79/79 [00:01<00:00, 41.79it/s]\n"
     ]
    },
    {
     "name": "stdout",
     "output_type": "stream",
     "text": [
      "\n",
      "\n",
      " Train:\n",
      "  Loss: 0.8282185331916809, Accuracy: 0.7072\n",
      " Validation:\n",
      "  Loss: 1.1470777910232544, Accuracy: 0.598\n",
      "🎉🎉🎉 New Best Validation Accuracy 🎉🎉🎉\n",
      "Save State of the Best Model: ✅\n",
      "Delete State File of the Previous Best Model: ✅\n",
      "-----------------------------------------------------------------\n",
      "\n",
      "Epoch 10:\n",
      "\n"
     ]
    },
    {
     "name": "stderr",
     "output_type": "stream",
     "text": [
      "100%|██████████| 391/391 [00:11<00:00, 32.78it/s]\n",
      "100%|██████████| 79/79 [00:01<00:00, 44.71it/s]\n"
     ]
    },
    {
     "name": "stdout",
     "output_type": "stream",
     "text": [
      "\n",
      "\n",
      " Train:\n",
      "  Loss: 0.782916208782196, Accuracy: 0.72342\n",
      " Validation:\n",
      "  Loss: 1.1482055152893067, Accuracy: 0.6015\n",
      "🎉🎉🎉 New Best Validation Accuracy 🎉🎉🎉\n",
      "Save State of the Best Model: ✅\n",
      "Delete State File of the Previous Best Model: ✅\n",
      "-----------------------------------------------------------------\n",
      "\n"
     ]
    },
    {
     "name": "stderr",
     "output_type": "stream",
     "text": [
      "\u001b[1;38;5;39mCOMET INFO:\u001b[0m ---------------------------------------------------------------------------------------\n",
      "\u001b[1;38;5;39mCOMET INFO:\u001b[0m Comet.ml Experiment Summary\n",
      "\u001b[1;38;5;39mCOMET INFO:\u001b[0m ---------------------------------------------------------------------------------------\n",
      "\u001b[1;38;5;39mCOMET INFO:\u001b[0m   Data:\n",
      "\u001b[1;38;5;39mCOMET INFO:\u001b[0m     display_summary_level : 1\n",
      "\u001b[1;38;5;39mCOMET INFO:\u001b[0m     name                  : ViT_SFT\n",
      "\u001b[1;38;5;39mCOMET INFO:\u001b[0m     url                   : https://www.comet.com/askoro/ssl-adversarial1/5adcca5e063241dbb66cb86181d40bc2\n",
      "\u001b[1;38;5;39mCOMET INFO:\u001b[0m   Metrics [count] (min, max):\n",
      "\u001b[1;38;5;39mCOMET INFO:\u001b[0m     loss [392]                           : (62155.625, 167467.96875)\n",
      "\u001b[1;38;5;39mCOMET INFO:\u001b[0m     train accuracy [10]                  : (0.34798, 0.72342)\n",
      "\u001b[1;38;5;39mCOMET INFO:\u001b[0m     train loss (by steps) [3910]         : (0.5504275560379028, 2.3515777587890625)\n",
      "\u001b[1;38;5;39mCOMET INFO:\u001b[0m     train loss [10]                      : (0.782916208782196, 1.761068134765625)\n",
      "\u001b[1;38;5;39mCOMET INFO:\u001b[0m     validation accuracy (No Attack) [10] : (0.4244, 0.6015)\n",
      "\u001b[1;38;5;39mCOMET INFO:\u001b[0m     validation loss (No Attack) [10]     : (1.1470777910232544, 1.5888404243469239)\n",
      "\u001b[1;38;5;39mCOMET INFO:\u001b[0m   Others:\n",
      "\u001b[1;38;5;39mCOMET INFO:\u001b[0m     Name : ViT_SFT\n",
      "\u001b[1;38;5;39mCOMET INFO:\u001b[0m   Uploads:\n",
      "\u001b[1;38;5;39mCOMET INFO:\u001b[0m     environment details : 1\n",
      "\u001b[1;38;5;39mCOMET INFO:\u001b[0m     filename            : 1\n",
      "\u001b[1;38;5;39mCOMET INFO:\u001b[0m     installed packages  : 1\n",
      "\u001b[1;38;5;39mCOMET INFO:\u001b[0m     model-element       : 1 (331.98 MB)\n",
      "\u001b[1;38;5;39mCOMET INFO:\u001b[0m     notebook            : 1\n",
      "\u001b[1;38;5;39mCOMET INFO:\u001b[0m     os packages         : 1\n",
      "\u001b[1;38;5;39mCOMET INFO:\u001b[0m     source_code         : 1\n",
      "\u001b[1;38;5;39mCOMET INFO:\u001b[0m \n",
      "\u001b[1;38;5;39mCOMET INFO:\u001b[0m Please wait for assets to finish uploading (timeout is 10800 seconds)\n",
      "\u001b[1;38;5;39mCOMET INFO:\u001b[0m Still uploading 1 file(s), remaining 326.98 MB/331.98 MB\n",
      "\u001b[1;38;5;39mCOMET INFO:\u001b[0m Still uploading 1 asset(s), remaining 241.98 MB/331.98 MB, Throughput 5.66 MB/s, ETA ~43s\n",
      "\u001b[1;38;5;39mCOMET INFO:\u001b[0m Still uploading 1 asset(s), remaining 186.98 MB/331.98 MB, Throughput 3.66 MB/s, ETA ~52s\n",
      "\u001b[1;38;5;39mCOMET INFO:\u001b[0m Still uploading 1 asset(s), remaining 121.98 MB/331.98 MB, Throughput 4.33 MB/s, ETA ~29s\n",
      "\u001b[1;38;5;39mCOMET INFO:\u001b[0m Still uploading 1 asset(s), remaining 66.98 MB/331.98 MB, Throughput 3.66 MB/s, ETA ~19s\n",
      "\u001b[1;38;5;39mCOMET INFO:\u001b[0m Still uploading 1 asset(s), remaining 6.98 MB/331.98 MB, Throughput 4.00 MB/s, ETA ~2s\n"
     ]
    },
    {
     "name": "stdout",
     "output_type": "stream",
     "text": [
      "\n"
     ]
    },
    {
     "name": "stderr",
     "output_type": "stream",
     "text": [
      "100%|██████████| 79/79 [00:01<00:00, 44.83it/s]\n",
      "100%|██████████| 79/79 [00:20<00:00,  3.90it/s]\n",
      "100%|██████████| 79/79 [00:20<00:00,  3.90it/s]\n",
      "100%|██████████| 79/79 [00:20<00:00,  3.87it/s]"
     ]
    },
    {
     "name": "stdout",
     "output_type": "stream",
     "text": [
      "\n",
      "\n",
      "Final Metrics:\n",
      " No Attack:\n",
      "   Loss: 1.1482055152893067, Accuracy: 0.6015\n",
      " i-FGSM:\n",
      "   Loss: 3.5661163051605222, Accuracy: 0.1626\n",
      " PGD:\n",
      "   Loss: 5.683026221466064, Accuracy: 0.019\n",
      " DI-FGSM:\n",
      "   Loss: 5.044743296051025, Accuracy: 0.0328\n"
     ]
    },
    {
     "name": "stderr",
     "output_type": "stream",
     "text": [
      "\n"
     ]
    }
   ],
   "source": [
    "exp = comet_ml.Experiment(project_name=\"SSL_Adversarial1\")\n",
    "exp.set_name(exp_name)\n",
    "\n",
    "train(model, image_processor, exp_name, optimizer, NUM_EPOCHS, train_loader, test_loader, is_train_attack_used=\"no\", scheduler=scheduler, exp=exp, env=\"colab\")\n",
    "\n",
    "exp.end()\n",
    "\n",
    "print()\n",
    "test(model, image_processor, test_loader, env=\"colab\")"
   ]
  },
  {
   "cell_type": "markdown",
   "metadata": {},
   "source": [
    "**ViT (Adversarial SFT with i-FGSM):**"
   ]
  },
  {
   "cell_type": "code",
   "execution_count": 21,
   "metadata": {},
   "outputs": [],
   "source": [
    "comet_ml.login()"
   ]
  },
  {
   "cell_type": "code",
   "execution_count": 22,
   "metadata": {},
   "outputs": [],
   "source": [
    "# choose device for computing\n",
    "device = torch.device('cuda' if torch.cuda.is_available() else 'cpu')"
   ]
  },
  {
   "cell_type": "code",
   "execution_count": 23,
   "metadata": {},
   "outputs": [],
   "source": [
    "NUM_EPOCHS = 10\n",
    "BATCH_SIZE = 128\n",
    "exp_name = \"ViT_Adversarial_SFT_BIM\""
   ]
  },
  {
   "cell_type": "code",
   "execution_count": 24,
   "metadata": {},
   "outputs": [
    {
     "name": "stdout",
     "output_type": "stream",
     "text": [
      "Files already downloaded and verified\n",
      "Prepare Train Set: ✅\n",
      "Prepare Test Set:  ✅\n"
     ]
    }
   ],
   "source": [
    "# random seed\n",
    "seed_everything(0)\n",
    "\n",
    "# get data and batchify it\n",
    "train_loader, test_loader = get_CIFAR10_dataloaders(batch_size=BATCH_SIZE, env=\"colab\")\n",
    "\n",
    "# model\n",
    "image_processor = AutoImageProcessor.from_pretrained(\"google/vit-base-patch16-224\", use_fast=True)\n",
    "\n",
    "vit_config = ViTConfig.from_pretrained(\"google/vit-base-patch16-224\")\n",
    "vit_config.image_size = 32\n",
    "vit_config.patch_size = 8\n",
    "encoder = ViTModel(vit_config)\n",
    "\n",
    "model = ViTClassifier(encoder=encoder, num_classes=10).to(memory_format=torch.channels_last)\n",
    "model.to(device)\n",
    "#model = torch.compile(model)\n",
    "\n",
    "# choose optimizer and scheduler (if needed)\n",
    "optimizer = torch.optim.Adam(model.parameters(), lr=1e-4, weight_decay=1e-3)\n",
    "\n",
    "scheduler = torch.optim.lr_scheduler.CosineAnnealingLR(optimizer, T_max=NUM_EPOCHS)"
   ]
  },
  {
   "cell_type": "code",
   "execution_count": 25,
   "metadata": {},
   "outputs": [
    {
     "name": "stderr",
     "output_type": "stream",
     "text": [
      "\u001b[1;38;5;214mCOMET WARNING:\u001b[0m As you are running in a Jupyter environment, you will need to call `experiment.end()` when finished to ensure all metrics and code are logged before exiting.\n",
      "\u001b[1;38;5;39mCOMET INFO:\u001b[0m Experiment is live on comet.com https://www.comet.com/askoro/ssl-adversarial1/b9d9e75eeb704c7aad3a1df967f6e5cc\n",
      "\n",
      "\u001b[1;38;5;39mCOMET INFO:\u001b[0m Couldn't find a Git repository in '/workdir' nor in any parent directory. Set `COMET_GIT_DIRECTORY` if your Git Repository is elsewhere.\n"
     ]
    },
    {
     "name": "stdout",
     "output_type": "stream",
     "text": [
      "Epoch 1:\n",
      "\n"
     ]
    },
    {
     "name": "stderr",
     "output_type": "stream",
     "text": [
      "100%|██████████| 391/391 [00:56<00:00,  6.98it/s]\n",
      "100%|██████████| 79/79 [00:01<00:00, 43.48it/s]\n"
     ]
    },
    {
     "name": "stdout",
     "output_type": "stream",
     "text": [
      "\n",
      "\n",
      " Train:\n",
      "  Loss: 1.8706157482528687, Accuracy: 0.29718\n",
      " Validation:\n",
      "  Loss: 1.5898978672027588, Accuracy: 0.4071\n",
      "🎉🎉🎉 New Best Validation Accuracy 🎉🎉🎉\n",
      "Save State of the Best Model: ✅\n",
      "-----------------------------------------------------------------\n",
      "\n",
      "Epoch 2:\n",
      "\n"
     ]
    },
    {
     "name": "stderr",
     "output_type": "stream",
     "text": [
      "100%|██████████| 391/391 [00:56<00:00,  6.97it/s]\n",
      "100%|██████████| 79/79 [00:01<00:00, 44.00it/s]\n"
     ]
    },
    {
     "name": "stdout",
     "output_type": "stream",
     "text": [
      "\n",
      "\n",
      " Train:\n",
      "  Loss: 1.6098482068634032, Accuracy: 0.39898\n",
      " Validation:\n",
      "  Loss: 1.43592204246521, Accuracy: 0.4791\n",
      "🎉🎉🎉 New Best Validation Accuracy 🎉🎉🎉\n",
      "Save State of the Best Model: ✅\n",
      "Delete State File of the Previous Best Model: ✅\n",
      "-----------------------------------------------------------------\n",
      "\n",
      "Epoch 3:\n",
      "\n"
     ]
    },
    {
     "name": "stderr",
     "output_type": "stream",
     "text": [
      "100%|██████████| 391/391 [00:56<00:00,  6.96it/s]\n",
      "100%|██████████| 79/79 [00:01<00:00, 43.68it/s]\n"
     ]
    },
    {
     "name": "stdout",
     "output_type": "stream",
     "text": [
      "\n",
      "\n",
      " Train:\n",
      "  Loss: 1.480689274559021, Accuracy: 0.44964\n",
      " Validation:\n",
      "  Loss: 1.329655962562561, Accuracy: 0.5258\n",
      "🎉🎉🎉 New Best Validation Accuracy 🎉🎉🎉\n",
      "Save State of the Best Model: ✅\n",
      "Delete State File of the Previous Best Model: ✅\n",
      "-----------------------------------------------------------------\n",
      "\n",
      "Epoch 4:\n",
      "\n"
     ]
    },
    {
     "name": "stderr",
     "output_type": "stream",
     "text": [
      "100%|██████████| 391/391 [00:56<00:00,  6.98it/s]\n",
      "100%|██████████| 79/79 [00:01<00:00, 43.99it/s]\n"
     ]
    },
    {
     "name": "stdout",
     "output_type": "stream",
     "text": [
      "\n",
      "\n",
      " Train:\n",
      "  Loss: 1.3972418649291993, Accuracy: 0.48086\n",
      " Validation:\n",
      "  Loss: 1.2521645587921142, Accuracy: 0.5425\n",
      "🎉🎉🎉 New Best Validation Accuracy 🎉🎉🎉\n",
      "Save State of the Best Model: ✅\n",
      "Delete State File of the Previous Best Model: ✅\n",
      "-----------------------------------------------------------------\n",
      "\n",
      "Epoch 5:\n",
      "\n"
     ]
    },
    {
     "name": "stderr",
     "output_type": "stream",
     "text": [
      "100%|██████████| 391/391 [00:55<00:00,  6.99it/s]\n",
      "100%|██████████| 79/79 [00:01<00:00, 43.80it/s]\n"
     ]
    },
    {
     "name": "stdout",
     "output_type": "stream",
     "text": [
      "\n",
      "\n",
      " Train:\n",
      "  Loss: 1.3338369879150391, Accuracy: 0.50358\n",
      " Validation:\n",
      "  Loss: 1.2574500062942504, Accuracy: 0.5393\n",
      "-----------------------------------------------------------------\n",
      "\n",
      "Epoch 6:\n",
      "\n"
     ]
    },
    {
     "name": "stderr",
     "output_type": "stream",
     "text": [
      "100%|██████████| 391/391 [00:55<00:00,  6.99it/s]\n",
      "100%|██████████| 79/79 [00:01<00:00, 44.38it/s]\n"
     ]
    },
    {
     "name": "stdout",
     "output_type": "stream",
     "text": [
      "\n",
      "\n",
      " Train:\n",
      "  Loss: 1.268149084777832, Accuracy: 0.53286\n",
      " Validation:\n",
      "  Loss: 1.226399260520935, Accuracy: 0.5515\n",
      "🎉🎉🎉 New Best Validation Accuracy 🎉🎉🎉\n",
      "Save State of the Best Model: ✅\n",
      "Delete State File of the Previous Best Model: ✅\n",
      "-----------------------------------------------------------------\n",
      "\n",
      "Epoch 7:\n",
      "\n"
     ]
    },
    {
     "name": "stderr",
     "output_type": "stream",
     "text": [
      "100%|██████████| 391/391 [00:55<00:00,  7.01it/s]\n",
      "100%|██████████| 79/79 [00:01<00:00, 43.71it/s]\n"
     ]
    },
    {
     "name": "stdout",
     "output_type": "stream",
     "text": [
      "\n",
      "\n",
      " Train:\n",
      "  Loss: 1.2095953636550902, Accuracy: 0.55124\n",
      " Validation:\n",
      "  Loss: 1.1468466382980347, Accuracy: 0.5888\n",
      "🎉🎉🎉 New Best Validation Accuracy 🎉🎉🎉\n",
      "Save State of the Best Model: ✅\n",
      "Delete State File of the Previous Best Model: ✅\n",
      "-----------------------------------------------------------------\n",
      "\n",
      "Epoch 8:\n",
      "\n"
     ]
    },
    {
     "name": "stderr",
     "output_type": "stream",
     "text": [
      "100%|██████████| 391/391 [00:55<00:00,  7.01it/s]\n",
      "100%|██████████| 79/79 [00:01<00:00, 44.68it/s]\n"
     ]
    },
    {
     "name": "stdout",
     "output_type": "stream",
     "text": [
      "\n",
      "\n",
      " Train:\n",
      "  Loss: 1.1490412230682372, Accuracy: 0.57558\n",
      " Validation:\n",
      "  Loss: 1.1173435358047485, Accuracy: 0.5956\n",
      "🎉🎉🎉 New Best Validation Accuracy 🎉🎉🎉\n",
      "Save State of the Best Model: ✅\n",
      "Delete State File of the Previous Best Model: ✅\n",
      "-----------------------------------------------------------------\n",
      "\n",
      "Epoch 9:\n",
      "\n"
     ]
    },
    {
     "name": "stderr",
     "output_type": "stream",
     "text": [
      "100%|██████████| 391/391 [00:55<00:00,  7.01it/s]\n",
      "100%|██████████| 79/79 [00:01<00:00, 43.43it/s]\n"
     ]
    },
    {
     "name": "stdout",
     "output_type": "stream",
     "text": [
      "\n",
      "\n",
      " Train:\n",
      "  Loss: 1.0996289527130128, Accuracy: 0.59614\n",
      " Validation:\n",
      "  Loss: 1.0948500370025636, Accuracy: 0.6072\n",
      "🎉🎉🎉 New Best Validation Accuracy 🎉🎉🎉\n",
      "Save State of the Best Model: ✅\n",
      "Delete State File of the Previous Best Model: ✅\n",
      "-----------------------------------------------------------------\n",
      "\n",
      "Epoch 10:\n",
      "\n"
     ]
    },
    {
     "name": "stderr",
     "output_type": "stream",
     "text": [
      "100%|██████████| 391/391 [00:55<00:00,  7.00it/s]\n",
      "100%|██████████| 79/79 [00:01<00:00, 44.59it/s]\n"
     ]
    },
    {
     "name": "stdout",
     "output_type": "stream",
     "text": [
      "\n",
      "\n",
      " Train:\n",
      "  Loss: 1.0668523699188233, Accuracy: 0.60824\n",
      " Validation:\n",
      "  Loss: 1.0873052110671997, Accuracy: 0.6072\n",
      "-----------------------------------------------------------------\n",
      "\n"
     ]
    },
    {
     "name": "stderr",
     "output_type": "stream",
     "text": [
      "\u001b[1;38;5;39mCOMET INFO:\u001b[0m ---------------------------------------------------------------------------------------\n",
      "\u001b[1;38;5;39mCOMET INFO:\u001b[0m Comet.ml Experiment Summary\n",
      "\u001b[1;38;5;39mCOMET INFO:\u001b[0m ---------------------------------------------------------------------------------------\n",
      "\u001b[1;38;5;39mCOMET INFO:\u001b[0m   Data:\n",
      "\u001b[1;38;5;39mCOMET INFO:\u001b[0m     display_summary_level : 1\n",
      "\u001b[1;38;5;39mCOMET INFO:\u001b[0m     name                  : ViT_Adversarial_SFT_BIM\n",
      "\u001b[1;38;5;39mCOMET INFO:\u001b[0m     url                   : https://www.comet.com/askoro/ssl-adversarial1/b9d9e75eeb704c7aad3a1df967f6e5cc\n",
      "\u001b[1;38;5;39mCOMET INFO:\u001b[0m   Metrics [count] (min, max):\n",
      "\u001b[1;38;5;39mCOMET INFO:\u001b[0m     loss [392]                           : (74786.9375, 194678.6875)\n",
      "\u001b[1;38;5;39mCOMET INFO:\u001b[0m     train accuracy [10]                  : (0.29718, 0.60824)\n",
      "\u001b[1;38;5;39mCOMET INFO:\u001b[0m     train loss (by steps) [3910]         : (0.8551417589187622, 2.4318084716796875)\n",
      "\u001b[1;38;5;39mCOMET INFO:\u001b[0m     train loss [10]                      : (1.0668523699188233, 1.8706157482528687)\n",
      "\u001b[1;38;5;39mCOMET INFO:\u001b[0m     validation accuracy (No Attack) [10] : (0.4071, 0.6072)\n",
      "\u001b[1;38;5;39mCOMET INFO:\u001b[0m     validation loss (No Attack) [10]     : (1.0873052110671997, 1.5898978672027588)\n",
      "\u001b[1;38;5;39mCOMET INFO:\u001b[0m   Others:\n",
      "\u001b[1;38;5;39mCOMET INFO:\u001b[0m     Name : ViT_Adversarial_SFT_BIM\n",
      "\u001b[1;38;5;39mCOMET INFO:\u001b[0m   Uploads:\n",
      "\u001b[1;38;5;39mCOMET INFO:\u001b[0m     environment details : 1\n",
      "\u001b[1;38;5;39mCOMET INFO:\u001b[0m     filename            : 1\n",
      "\u001b[1;38;5;39mCOMET INFO:\u001b[0m     installed packages  : 1\n",
      "\u001b[1;38;5;39mCOMET INFO:\u001b[0m     model graph         : 1\n",
      "\u001b[1;38;5;39mCOMET INFO:\u001b[0m     model-element       : 1 (331.99 MB)\n",
      "\u001b[1;38;5;39mCOMET INFO:\u001b[0m     notebook            : 1\n",
      "\u001b[1;38;5;39mCOMET INFO:\u001b[0m     os packages         : 1\n",
      "\u001b[1;38;5;39mCOMET INFO:\u001b[0m     source_code         : 1\n",
      "\u001b[1;38;5;39mCOMET INFO:\u001b[0m \n",
      "\u001b[1;38;5;39mCOMET INFO:\u001b[0m Please wait for assets to finish uploading (timeout is 10800 seconds)\n",
      "\u001b[1;38;5;39mCOMET INFO:\u001b[0m Still uploading 1 file(s), remaining 331.99 MB/331.99 MB\n",
      "\u001b[1;38;5;39mCOMET INFO:\u001b[0m Still uploading 1 asset(s), remaining 256.99 MB/331.99 MB, Throughput 4.99 MB/s, ETA ~52s\n",
      "\u001b[1;38;5;39mCOMET INFO:\u001b[0m Still uploading 1 asset(s), remaining 176.99 MB/331.99 MB, Throughput 5.33 MB/s, ETA ~34s\n",
      "\u001b[1;38;5;39mCOMET INFO:\u001b[0m Still uploading 1 asset(s), remaining 86.99 MB/331.99 MB, Throughput 5.99 MB/s, ETA ~15s\n",
      "\u001b[1;38;5;39mCOMET INFO:\u001b[0m Still uploading 1 asset(s), remaining 1.99 MB/331.99 MB, Throughput 5.66 MB/s, ETA ~1s\n"
     ]
    },
    {
     "name": "stdout",
     "output_type": "stream",
     "text": [
      "\n"
     ]
    },
    {
     "name": "stderr",
     "output_type": "stream",
     "text": [
      "100%|██████████| 79/79 [00:01<00:00, 44.18it/s]\n",
      "100%|██████████| 79/79 [00:20<00:00,  3.90it/s]\n",
      "100%|██████████| 79/79 [00:20<00:00,  3.89it/s]\n",
      "100%|██████████| 79/79 [00:20<00:00,  3.87it/s]"
     ]
    },
    {
     "name": "stdout",
     "output_type": "stream",
     "text": [
      "\n",
      "\n",
      "Final Metrics:\n",
      " No Attack:\n",
      "   Loss: 1.0873052110671997, Accuracy: 0.6072\n",
      " i-FGSM:\n",
      "   Loss: 1.4469811721801757, Accuracy: 0.4686\n",
      " PGD:\n",
      "   Loss: 2.7317657737731933, Accuracy: 0.1542\n",
      " DI-FGSM:\n",
      "   Loss: 2.680039477157593, Accuracy: 0.1664\n"
     ]
    },
    {
     "name": "stderr",
     "output_type": "stream",
     "text": [
      "\n"
     ]
    }
   ],
   "source": [
    "exp = comet_ml.Experiment(project_name=\"SSL_Adversarial1\")\n",
    "exp.set_name(exp_name)\n",
    "\n",
    "train(model, image_processor, exp_name, optimizer, NUM_EPOCHS, train_loader, test_loader, is_train_attack_used=\"BIM\", scheduler=scheduler, exp=exp, env=\"colab\")\n",
    "\n",
    "exp.end()\n",
    "\n",
    "print()\n",
    "test(model, image_processor, test_loader, env=\"colab\")"
   ]
  },
  {
   "cell_type": "markdown",
   "metadata": {},
   "source": [
    "**ViT (Adversarial SFT with PGD):**"
   ]
  },
  {
   "cell_type": "code",
   "execution_count": 26,
   "metadata": {},
   "outputs": [],
   "source": [
    "comet_ml.login()"
   ]
  },
  {
   "cell_type": "code",
   "execution_count": 27,
   "metadata": {},
   "outputs": [],
   "source": [
    "# choose device for computing\n",
    "device = torch.device('cuda' if torch.cuda.is_available() else 'cpu')"
   ]
  },
  {
   "cell_type": "code",
   "execution_count": 28,
   "metadata": {},
   "outputs": [],
   "source": [
    "NUM_EPOCHS = 10\n",
    "BATCH_SIZE = 128\n",
    "exp_name = \"ViT_Adversarial_SFT_PGD\""
   ]
  },
  {
   "cell_type": "code",
   "execution_count": 29,
   "metadata": {},
   "outputs": [
    {
     "name": "stdout",
     "output_type": "stream",
     "text": [
      "Files already downloaded and verified\n",
      "Prepare Train Set: ✅\n",
      "Prepare Test Set:  ✅\n"
     ]
    }
   ],
   "source": [
    "# random seed\n",
    "seed_everything(0)\n",
    "\n",
    "# get data and batchify it\n",
    "train_loader, test_loader = get_CIFAR10_dataloaders(batch_size=BATCH_SIZE, env=\"colab\")\n",
    "\n",
    "# model\n",
    "image_processor = AutoImageProcessor.from_pretrained(\"google/vit-base-patch16-224\", use_fast=True)\n",
    "\n",
    "vit_config = ViTConfig.from_pretrained(\"google/vit-base-patch16-224\")\n",
    "vit_config.image_size = 32\n",
    "vit_config.patch_size = 8\n",
    "encoder = ViTModel(vit_config)\n",
    "\n",
    "model = ViTClassifier(encoder=encoder, num_classes=10).to(memory_format=torch.channels_last)\n",
    "model.to(device)\n",
    "#model = torch.compile(model)\n",
    "\n",
    "# choose optimizer and scheduler (if needed)\n",
    "optimizer = torch.optim.Adam(model.parameters(), lr=1e-3)\n",
    "\n",
    "scheduler = torch.optim.lr_scheduler.CosineAnnealingLR(optimizer, T_max=NUM_EPOCHS)"
   ]
  },
  {
   "cell_type": "code",
   "execution_count": 30,
   "metadata": {},
   "outputs": [
    {
     "name": "stderr",
     "output_type": "stream",
     "text": [
      "\u001b[1;38;5;214mCOMET WARNING:\u001b[0m As you are running in a Jupyter environment, you will need to call `experiment.end()` when finished to ensure all metrics and code are logged before exiting.\n",
      "\u001b[1;38;5;39mCOMET INFO:\u001b[0m Experiment is live on comet.com https://www.comet.com/askoro/ssl-adversarial1/83881af3b9884e3b89b444ed50faed23\n",
      "\n",
      "\u001b[1;38;5;39mCOMET INFO:\u001b[0m Couldn't find a Git repository in '/workdir' nor in any parent directory. Set `COMET_GIT_DIRECTORY` if your Git Repository is elsewhere.\n"
     ]
    },
    {
     "name": "stdout",
     "output_type": "stream",
     "text": [
      "Epoch 1:\n",
      "\n"
     ]
    },
    {
     "name": "stderr",
     "output_type": "stream",
     "text": [
      "100%|██████████| 391/391 [00:55<00:00,  7.01it/s]\n",
      "100%|██████████| 79/79 [00:01<00:00, 44.54it/s]\n"
     ]
    },
    {
     "name": "stdout",
     "output_type": "stream",
     "text": [
      "\n",
      "\n",
      " Train:\n",
      "  Loss: 2.1381961766815185, Accuracy: 0.17808\n",
      " Validation:\n",
      "  Loss: 2.0734954469680784, Accuracy: 0.2002\n",
      "🎉🎉🎉 New Best Validation Accuracy 🎉🎉🎉\n",
      "Save State of the Best Model: ✅\n",
      "-----------------------------------------------------------------\n",
      "\n",
      "Epoch 2:\n",
      "\n"
     ]
    },
    {
     "name": "stderr",
     "output_type": "stream",
     "text": [
      "100%|██████████| 391/391 [00:55<00:00,  7.02it/s]\n",
      "100%|██████████| 79/79 [00:01<00:00, 43.44it/s]\n"
     ]
    },
    {
     "name": "stdout",
     "output_type": "stream",
     "text": [
      "\n",
      "\n",
      " Train:\n",
      "  Loss: 2.091312582855225, Accuracy: 0.20098\n",
      " Validation:\n",
      "  Loss: 2.0577240909576417, Accuracy: 0.2153\n",
      "🎉🎉🎉 New Best Validation Accuracy 🎉🎉🎉\n",
      "Save State of the Best Model: ✅\n",
      "Delete State File of the Previous Best Model: ✅\n",
      "-----------------------------------------------------------------\n",
      "\n",
      "Epoch 3:\n",
      "\n"
     ]
    },
    {
     "name": "stderr",
     "output_type": "stream",
     "text": [
      "100%|██████████| 391/391 [00:55<00:00,  7.03it/s]\n",
      "100%|██████████| 79/79 [00:01<00:00, 42.54it/s]\n"
     ]
    },
    {
     "name": "stdout",
     "output_type": "stream",
     "text": [
      "\n",
      "\n",
      " Train:\n",
      "  Loss: 2.0685565918731688, Accuracy: 0.22088\n",
      " Validation:\n",
      "  Loss: 2.0859831758499148, Accuracy: 0.2184\n",
      "🎉🎉🎉 New Best Validation Accuracy 🎉🎉🎉\n",
      "Save State of the Best Model: ✅\n",
      "Delete State File of the Previous Best Model: ✅\n",
      "-----------------------------------------------------------------\n",
      "\n",
      "Epoch 4:\n",
      "\n"
     ]
    },
    {
     "name": "stderr",
     "output_type": "stream",
     "text": [
      "100%|██████████| 391/391 [00:55<00:00,  6.99it/s]\n",
      "100%|██████████| 79/79 [00:01<00:00, 44.38it/s]\n"
     ]
    },
    {
     "name": "stdout",
     "output_type": "stream",
     "text": [
      "\n",
      "\n",
      " Train:\n",
      "  Loss: 2.048776367149353, Accuracy: 0.23578\n",
      " Validation:\n",
      "  Loss: 2.050088400268555, Accuracy: 0.2383\n",
      "🎉🎉🎉 New Best Validation Accuracy 🎉🎉🎉\n",
      "Save State of the Best Model: ✅\n",
      "Delete State File of the Previous Best Model: ✅\n",
      "-----------------------------------------------------------------\n",
      "\n",
      "Epoch 5:\n",
      "\n"
     ]
    },
    {
     "name": "stderr",
     "output_type": "stream",
     "text": [
      "100%|██████████| 391/391 [00:55<00:00,  7.03it/s]\n",
      "100%|██████████| 79/79 [00:01<00:00, 43.57it/s]\n"
     ]
    },
    {
     "name": "stdout",
     "output_type": "stream",
     "text": [
      "\n",
      "\n",
      " Train:\n",
      "  Loss: 2.015080625076294, Accuracy: 0.25116\n",
      " Validation:\n",
      "  Loss: 2.055820963668823, Accuracy: 0.2274\n",
      "-----------------------------------------------------------------\n",
      "\n",
      "Epoch 6:\n",
      "\n"
     ]
    },
    {
     "name": "stderr",
     "output_type": "stream",
     "text": [
      "100%|██████████| 391/391 [00:55<00:00,  7.02it/s]\n",
      "100%|██████████| 79/79 [00:01<00:00, 44.45it/s]\n"
     ]
    },
    {
     "name": "stdout",
     "output_type": "stream",
     "text": [
      "\n",
      "\n",
      " Train:\n",
      "  Loss: 1.9900066772460938, Accuracy: 0.26418\n",
      " Validation:\n",
      "  Loss: 2.028280900192261, Accuracy: 0.2085\n",
      "-----------------------------------------------------------------\n",
      "\n",
      "Epoch 7:\n",
      "\n"
     ]
    },
    {
     "name": "stderr",
     "output_type": "stream",
     "text": [
      "100%|██████████| 391/391 [00:55<00:00,  7.02it/s]\n",
      "100%|██████████| 79/79 [00:01<00:00, 44.60it/s]\n"
     ]
    },
    {
     "name": "stdout",
     "output_type": "stream",
     "text": [
      "\n",
      "\n",
      " Train:\n",
      "  Loss: 1.9694405371475219, Accuracy: 0.27226\n",
      " Validation:\n",
      "  Loss: 1.958679733467102, Accuracy: 0.2519\n",
      "🎉🎉🎉 New Best Validation Accuracy 🎉🎉🎉\n",
      "Save State of the Best Model: ✅\n",
      "Delete State File of the Previous Best Model: ✅\n",
      "-----------------------------------------------------------------\n",
      "\n",
      "Epoch 8:\n",
      "\n"
     ]
    },
    {
     "name": "stderr",
     "output_type": "stream",
     "text": [
      "100%|██████████| 391/391 [00:55<00:00,  7.01it/s]\n",
      "100%|██████████| 79/79 [00:01<00:00, 44.37it/s]\n"
     ]
    },
    {
     "name": "stdout",
     "output_type": "stream",
     "text": [
      "\n",
      "\n",
      " Train:\n",
      "  Loss: 1.9472698413085938, Accuracy: 0.28304\n",
      " Validation:\n",
      "  Loss: 1.9418839208602905, Accuracy: 0.272\n",
      "🎉🎉🎉 New Best Validation Accuracy 🎉🎉🎉\n",
      "Save State of the Best Model: ✅\n",
      "Delete State File of the Previous Best Model: ✅\n",
      "-----------------------------------------------------------------\n",
      "\n",
      "Epoch 9:\n",
      "\n"
     ]
    },
    {
     "name": "stderr",
     "output_type": "stream",
     "text": [
      "100%|██████████| 391/391 [00:55<00:00,  7.02it/s]\n",
      "100%|██████████| 79/79 [00:01<00:00, 44.03it/s]\n"
     ]
    },
    {
     "name": "stdout",
     "output_type": "stream",
     "text": [
      "\n",
      "\n",
      " Train:\n",
      "  Loss: 1.9323601782989501, Accuracy: 0.28604\n",
      " Validation:\n",
      "  Loss: 1.9696820573806764, Accuracy: 0.2597\n",
      "-----------------------------------------------------------------\n",
      "\n",
      "Epoch 10:\n",
      "\n"
     ]
    },
    {
     "name": "stderr",
     "output_type": "stream",
     "text": [
      "100%|██████████| 391/391 [00:55<00:00,  7.02it/s]\n",
      "100%|██████████| 79/79 [00:01<00:00, 43.47it/s]\n"
     ]
    },
    {
     "name": "stdout",
     "output_type": "stream",
     "text": [
      "\n",
      "\n",
      " Train:\n",
      "  Loss: 1.9205758374786377, Accuracy: 0.29062\n",
      " Validation:\n",
      "  Loss: 1.9685206230163574, Accuracy: 0.2603\n",
      "-----------------------------------------------------------------\n",
      "\n"
     ]
    },
    {
     "name": "stderr",
     "output_type": "stream",
     "text": [
      "\u001b[1;38;5;39mCOMET INFO:\u001b[0m ---------------------------------------------------------------------------------------\n",
      "\u001b[1;38;5;39mCOMET INFO:\u001b[0m Comet.ml Experiment Summary\n",
      "\u001b[1;38;5;39mCOMET INFO:\u001b[0m ---------------------------------------------------------------------------------------\n",
      "\u001b[1;38;5;39mCOMET INFO:\u001b[0m   Data:\n",
      "\u001b[1;38;5;39mCOMET INFO:\u001b[0m     display_summary_level : 1\n",
      "\u001b[1;38;5;39mCOMET INFO:\u001b[0m     name                  : ViT_Adversarial_SFT_PGD\n",
      "\u001b[1;38;5;39mCOMET INFO:\u001b[0m     url                   : https://www.comet.com/askoro/ssl-adversarial1/83881af3b9884e3b89b444ed50faed23\n",
      "\u001b[1;38;5;39mCOMET INFO:\u001b[0m   Metrics [count] (min, max):\n",
      "\u001b[1;38;5;39mCOMET INFO:\u001b[0m     loss [392]                           : (59401.125, 159423.0)\n",
      "\u001b[1;38;5;39mCOMET INFO:\u001b[0m     train accuracy [10]                  : (0.17808, 0.29062)\n",
      "\u001b[1;38;5;39mCOMET INFO:\u001b[0m     train loss (by steps) [3910]         : (1.7196159362792969, 2.9064483642578125)\n",
      "\u001b[1;38;5;39mCOMET INFO:\u001b[0m     train loss [10]                      : (1.9205758374786377, 2.1381961766815185)\n",
      "\u001b[1;38;5;39mCOMET INFO:\u001b[0m     validation accuracy (No Attack) [10] : (0.2002, 0.272)\n",
      "\u001b[1;38;5;39mCOMET INFO:\u001b[0m     validation loss (No Attack) [10]     : (1.9418839208602905, 2.0859831758499148)\n",
      "\u001b[1;38;5;39mCOMET INFO:\u001b[0m   Others:\n",
      "\u001b[1;38;5;39mCOMET INFO:\u001b[0m     Name : ViT_Adversarial_SFT_PGD\n",
      "\u001b[1;38;5;39mCOMET INFO:\u001b[0m   Uploads:\n",
      "\u001b[1;38;5;39mCOMET INFO:\u001b[0m     environment details : 1\n",
      "\u001b[1;38;5;39mCOMET INFO:\u001b[0m     filename            : 1\n",
      "\u001b[1;38;5;39mCOMET INFO:\u001b[0m     installed packages  : 1\n",
      "\u001b[1;38;5;39mCOMET INFO:\u001b[0m     model graph         : 1\n",
      "\u001b[1;38;5;39mCOMET INFO:\u001b[0m     model-element       : 1 (331.99 MB)\n",
      "\u001b[1;38;5;39mCOMET INFO:\u001b[0m     notebook            : 1\n",
      "\u001b[1;38;5;39mCOMET INFO:\u001b[0m     os packages         : 1\n",
      "\u001b[1;38;5;39mCOMET INFO:\u001b[0m     source_code         : 1\n",
      "\u001b[1;38;5;39mCOMET INFO:\u001b[0m \n",
      "\u001b[1;38;5;39mCOMET INFO:\u001b[0m Please wait for assets to finish uploading (timeout is 10800 seconds)\n",
      "\u001b[1;38;5;39mCOMET INFO:\u001b[0m Still uploading 2 file(s), remaining 331.99 MB/332.00 MB\n",
      "\u001b[1;38;5;39mCOMET INFO:\u001b[0m Still uploading 1 asset(s), remaining 321.99 MB/331.99 MB, Throughput 681.96 KB/s, ETA ~484s\n",
      "\u001b[1;38;5;39mCOMET INFO:\u001b[0m Still uploading 1 asset(s), remaining 261.99 MB/331.99 MB, Throughput 4.00 MB/s, ETA ~66s\n",
      "\u001b[1;38;5;39mCOMET INFO:\u001b[0m Still uploading 1 asset(s), remaining 196.99 MB/331.99 MB, Throughput 4.33 MB/s, ETA ~46s\n",
      "\u001b[1;38;5;39mCOMET INFO:\u001b[0m Still uploading 1 asset(s), remaining 126.99 MB/331.99 MB, Throughput 4.66 MB/s, ETA ~28s\n",
      "\u001b[1;38;5;39mCOMET INFO:\u001b[0m Still uploading 1 asset(s), remaining 51.99 MB/331.99 MB, Throughput 4.99 MB/s, ETA ~11s\n"
     ]
    },
    {
     "name": "stdout",
     "output_type": "stream",
     "text": [
      "\n"
     ]
    },
    {
     "name": "stderr",
     "output_type": "stream",
     "text": [
      "100%|██████████| 79/79 [00:01<00:00, 44.78it/s]\n",
      "100%|██████████| 79/79 [00:20<00:00,  3.89it/s]\n",
      "100%|██████████| 79/79 [00:20<00:00,  3.90it/s]\n",
      "100%|██████████| 79/79 [00:20<00:00,  3.87it/s]"
     ]
    },
    {
     "name": "stdout",
     "output_type": "stream",
     "text": [
      "\n",
      "\n",
      "Final Metrics:\n",
      " No Attack:\n",
      "   Loss: 1.9685206230163574, Accuracy: 0.2603\n",
      " i-FGSM:\n",
      "   Loss: 2.1599947494506835, Accuracy: 0.1821\n",
      " PGD:\n",
      "   Loss: 2.03457209854126, Accuracy: 0.2423\n",
      " DI-FGSM:\n",
      "   Loss: 2.011766353607178, Accuracy: 0.2532\n"
     ]
    },
    {
     "name": "stderr",
     "output_type": "stream",
     "text": [
      "\n"
     ]
    }
   ],
   "source": [
    "exp = comet_ml.Experiment(project_name=\"SSL_Adversarial1\")\n",
    "exp.set_name(exp_name)\n",
    "\n",
    "train(model, image_processor, exp_name, optimizer, NUM_EPOCHS, train_loader, test_loader, is_train_attack_used=\"PGD\", scheduler=scheduler, exp=exp, env=\"colab\")\n",
    "\n",
    "exp.end()\n",
    "\n",
    "print()\n",
    "test(model, image_processor, test_loader, env=\"colab\")"
   ]
  }
 ],
 "metadata": {
  "kaggle": {
   "accelerator": "nvidiaTeslaT4",
   "dataSources": [],
   "dockerImageVersionId": 30822,
   "isGpuEnabled": true,
   "isInternetEnabled": true,
   "language": "python",
   "sourceType": "notebook"
  },
  "kernelspec": {
   "display_name": "Python 3 (ipykernel)",
   "language": "python",
   "name": "python3"
  },
  "language_info": {
   "codemirror_mode": {
    "name": "ipython",
    "version": 3
   },
   "file_extension": ".py",
   "mimetype": "text/x-python",
   "name": "python",
   "nbconvert_exporter": "python",
   "pygments_lexer": "ipython3",
   "version": "3.10.12"
  }
 },
 "nbformat": 4,
 "nbformat_minor": 4
}
