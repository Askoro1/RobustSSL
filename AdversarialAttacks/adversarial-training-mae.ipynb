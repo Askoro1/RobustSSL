{
 "cells": [
  {
   "cell_type": "markdown",
   "metadata": {},
   "source": [
    "# Utils"
   ]
  },
  {
   "cell_type": "markdown",
   "metadata": {},
   "source": [
    "**Импорты библиотек:**"
   ]
  },
  {
   "cell_type": "code",
   "execution_count": 1,
   "metadata": {
    "_cell_guid": "b1076dfc-b9ad-4769-8c92-a6c4dae69d19",
    "_uuid": "8f2839f25d086af736a60e9eeb907d3b93b6e0e5"
   },
   "outputs": [
    {
     "name": "stdout",
     "output_type": "stream",
     "text": [
      "\n",
      "\u001b[1m[\u001b[0m\u001b[34;49mnotice\u001b[0m\u001b[1;39;49m]\u001b[0m\u001b[39;49m A new release of pip is available: \u001b[0m\u001b[31;49m24.0\u001b[0m\u001b[39;49m -> \u001b[0m\u001b[32;49m24.3.1\u001b[0m\n",
      "\u001b[1m[\u001b[0m\u001b[34;49mnotice\u001b[0m\u001b[1;39;49m]\u001b[0m\u001b[39;49m To update, run: \u001b[0m\u001b[32;49mpython -m pip install --upgrade pip\u001b[0m\n",
      "\u001b[31mERROR: Could not find a version that satisfies the requirement torch==2.4.1+cu121 (from versions: 1.11.0, 1.12.0, 1.12.1, 1.13.0, 1.13.1, 2.0.0, 2.0.1, 2.1.0, 2.1.1, 2.1.2, 2.2.0, 2.2.1, 2.2.2, 2.3.0, 2.3.1, 2.4.0, 2.4.1, 2.5.0, 2.5.1)\u001b[0m\u001b[31m\n",
      "\u001b[0m\u001b[31mERROR: No matching distribution found for torch==2.4.1+cu121\u001b[0m\u001b[31m\n",
      "\u001b[0m\n",
      "\u001b[1m[\u001b[0m\u001b[34;49mnotice\u001b[0m\u001b[1;39;49m]\u001b[0m\u001b[39;49m A new release of pip is available: \u001b[0m\u001b[31;49m24.0\u001b[0m\u001b[39;49m -> \u001b[0m\u001b[32;49m24.3.1\u001b[0m\n",
      "\u001b[1m[\u001b[0m\u001b[34;49mnotice\u001b[0m\u001b[1;39;49m]\u001b[0m\u001b[39;49m To update, run: \u001b[0m\u001b[32;49mpython -m pip install --upgrade pip\u001b[0m\n",
      "\u001b[31mERROR: Ignored the following yanked versions: 0.1.6, 0.1.7, 0.1.8, 0.1.9, 0.2.0, 0.2.1, 0.2.2, 0.2.2.post2, 0.2.2.post3, 0.15.0\u001b[0m\u001b[31m\n",
      "\u001b[0m\u001b[31mERROR: Could not find a version that satisfies the requirement torchvision==0.19.1+cu121 (from versions: 0.12.0, 0.13.0, 0.13.1, 0.14.0, 0.14.1, 0.15.1, 0.15.2, 0.16.0, 0.16.1, 0.16.2, 0.17.0, 0.17.1, 0.17.2, 0.18.0, 0.18.1, 0.19.0, 0.19.1, 0.20.0, 0.20.1)\u001b[0m\u001b[31m\n",
      "\u001b[0m\u001b[31mERROR: No matching distribution found for torchvision==0.19.1+cu121\u001b[0m\u001b[31m\n",
      "\u001b[0m\n",
      "\u001b[1m[\u001b[0m\u001b[34;49mnotice\u001b[0m\u001b[1;39;49m]\u001b[0m\u001b[39;49m A new release of pip is available: \u001b[0m\u001b[31;49m24.0\u001b[0m\u001b[39;49m -> \u001b[0m\u001b[32;49m24.3.1\u001b[0m\n",
      "\u001b[1m[\u001b[0m\u001b[34;49mnotice\u001b[0m\u001b[1;39;49m]\u001b[0m\u001b[39;49m To update, run: \u001b[0m\u001b[32;49mpython -m pip install --upgrade pip\u001b[0m\n",
      "\n",
      "\u001b[1m[\u001b[0m\u001b[34;49mnotice\u001b[0m\u001b[1;39;49m]\u001b[0m\u001b[39;49m A new release of pip is available: \u001b[0m\u001b[31;49m24.0\u001b[0m\u001b[39;49m -> \u001b[0m\u001b[32;49m24.3.1\u001b[0m\n",
      "\u001b[1m[\u001b[0m\u001b[34;49mnotice\u001b[0m\u001b[1;39;49m]\u001b[0m\u001b[39;49m To update, run: \u001b[0m\u001b[32;49mpython -m pip install --upgrade pip\u001b[0m\n",
      "\n",
      "\u001b[1m[\u001b[0m\u001b[34;49mnotice\u001b[0m\u001b[1;39;49m]\u001b[0m\u001b[39;49m A new release of pip is available: \u001b[0m\u001b[31;49m24.0\u001b[0m\u001b[39;49m -> \u001b[0m\u001b[32;49m24.3.1\u001b[0m\n",
      "\u001b[1m[\u001b[0m\u001b[34;49mnotice\u001b[0m\u001b[1;39;49m]\u001b[0m\u001b[39;49m To update, run: \u001b[0m\u001b[32;49mpython -m pip install --upgrade pip\u001b[0m\n",
      "\n",
      "\u001b[1m[\u001b[0m\u001b[34;49mnotice\u001b[0m\u001b[1;39;49m]\u001b[0m\u001b[39;49m A new release of pip is available: \u001b[0m\u001b[31;49m24.0\u001b[0m\u001b[39;49m -> \u001b[0m\u001b[32;49m24.3.1\u001b[0m\n",
      "\u001b[1m[\u001b[0m\u001b[34;49mnotice\u001b[0m\u001b[1;39;49m]\u001b[0m\u001b[39;49m To update, run: \u001b[0m\u001b[32;49mpython -m pip install --upgrade pip\u001b[0m\n",
      "\u001b[31mERROR: pip's dependency resolver does not currently take into account all the packages that are installed. This behaviour is the source of the following dependency conflicts.\n",
      "jupyterlab-server 2.27.3 requires requests>=2.31, but you have requests 2.25.1 which is incompatible.\n",
      "ml-core-python-sdk 0.2.68 requires requests<3.0.0,>=2.26.0, but you have requests 2.25.1 which is incompatible.\n",
      "poetry 1.8.5 requires requests<3.0,>=2.26, but you have requests 2.25.1 which is incompatible.\n",
      "tinkoffpy 1.0.53 requires requests>=2.28.1, but you have requests 2.25.1 which is incompatible.\n",
      "types-requests 2.32.0.20241016 requires urllib3>=2, but you have urllib3 1.26.20 which is incompatible.\u001b[0m\u001b[31m\n",
      "\u001b[0m\n",
      "\u001b[1m[\u001b[0m\u001b[34;49mnotice\u001b[0m\u001b[1;39;49m]\u001b[0m\u001b[39;49m A new release of pip is available: \u001b[0m\u001b[31;49m24.0\u001b[0m\u001b[39;49m -> \u001b[0m\u001b[32;49m24.3.1\u001b[0m\n",
      "\u001b[1m[\u001b[0m\u001b[34;49mnotice\u001b[0m\u001b[1;39;49m]\u001b[0m\u001b[39;49m To update, run: \u001b[0m\u001b[32;49mpython -m pip install --upgrade pip\u001b[0m\n",
      "\n",
      "\u001b[1m[\u001b[0m\u001b[34;49mnotice\u001b[0m\u001b[1;39;49m]\u001b[0m\u001b[39;49m A new release of pip is available: \u001b[0m\u001b[31;49m24.0\u001b[0m\u001b[39;49m -> \u001b[0m\u001b[32;49m24.3.1\u001b[0m\n",
      "\u001b[1m[\u001b[0m\u001b[34;49mnotice\u001b[0m\u001b[1;39;49m]\u001b[0m\u001b[39;49m To update, run: \u001b[0m\u001b[32;49mpython -m pip install --upgrade pip\u001b[0m\n",
      "\n",
      "\u001b[1m[\u001b[0m\u001b[34;49mnotice\u001b[0m\u001b[1;39;49m]\u001b[0m\u001b[39;49m A new release of pip is available: \u001b[0m\u001b[31;49m24.0\u001b[0m\u001b[39;49m -> \u001b[0m\u001b[32;49m24.3.1\u001b[0m\n",
      "\u001b[1m[\u001b[0m\u001b[34;49mnotice\u001b[0m\u001b[1;39;49m]\u001b[0m\u001b[39;49m To update, run: \u001b[0m\u001b[32;49mpython -m pip install --upgrade pip\u001b[0m\n",
      "\n",
      "\u001b[1m[\u001b[0m\u001b[34;49mnotice\u001b[0m\u001b[1;39;49m]\u001b[0m\u001b[39;49m A new release of pip is available: \u001b[0m\u001b[31;49m24.0\u001b[0m\u001b[39;49m -> \u001b[0m\u001b[32;49m24.3.1\u001b[0m\n",
      "\u001b[1m[\u001b[0m\u001b[34;49mnotice\u001b[0m\u001b[1;39;49m]\u001b[0m\u001b[39;49m To update, run: \u001b[0m\u001b[32;49mpython -m pip install --upgrade pip\u001b[0m\n"
     ]
    }
   ],
   "source": [
    "!pip install -q tqdm==4.66.5\n",
    "!pip install -q torch==2.4.1+cu121\n",
    "!pip install -q torchvision==0.19.1+cu121\n",
    "!pip install -q transformers==4.44.2\n",
    "!pip install -q comet_ml==3.47.6\n",
    "!pip install -q triton==3.1.0\n",
    "!pip install -q torchattacks==3.5.1\n",
    "!pip install -q jax==0.4.38\n",
    "!pip install -q jaxlib==0.4.38\n",
    "!pip install -q seaborn"
   ]
  },
  {
   "cell_type": "code",
   "execution_count": 2,
   "metadata": {},
   "outputs": [],
   "source": [
    "import random\n",
    "\n",
    "import matplotlib.pyplot as plt\n",
    "import seaborn as sns\n",
    "\n",
    "import numpy as np\n",
    "import pandas as pd\n",
    "from PIL import Image\n",
    "from tqdm import tqdm\n",
    "import os\n",
    "\n",
    "import comet_ml\n",
    "\n",
    "import torch\n",
    "import torchvision\n",
    "from torchvision.transforms import v2\n",
    "import torchattacks\n",
    "from transformers import AutoImageProcessor, ViTMAEForPreTraining, ViTMAEConfig"
   ]
  },
  {
   "cell_type": "markdown",
   "metadata": {},
   "source": [
    "**Utils:**"
   ]
  },
  {
   "cell_type": "markdown",
   "metadata": {},
   "source": [
    "**Функция для фиксирования сида:**"
   ]
  },
  {
   "cell_type": "code",
   "execution_count": 3,
   "metadata": {},
   "outputs": [],
   "source": [
    "def seed_everything(seed):\n",
    "    random.seed(seed)\n",
    "    np.random.seed(seed)\n",
    "    torch.manual_seed(seed)\n",
    "    torch.cuda.manual_seed_all(seed)\n",
    "    torch.backends.cudnn.deterministic = True\n",
    "    torch.backends.cudnn.benchmark = False"
   ]
  },
  {
   "cell_type": "markdown",
   "metadata": {},
   "source": [
    "**Additional utils:**"
   ]
  },
  {
   "cell_type": "code",
   "execution_count": 4,
   "metadata": {},
   "outputs": [],
   "source": [
    "def get_root(env):\n",
    "    # supports env == \"colab\", env == \"kaggle\"\n",
    "    if env == \"kaggle\":\n",
    "        return \"/kaggle/working/\"\n",
    "    else:\n",
    "        return \"./\""
   ]
  },
  {
   "cell_type": "code",
   "execution_count": 5,
   "metadata": {},
   "outputs": [],
   "source": [
    "# this augmentation first converts PIL image to Tensor,\n",
    "# then casts resulting tensor to type=torch.float32,\n",
    "# finally normalizes the image\n",
    "\n",
    "default_aug = v2.Compose([v2.PILToTensor(),\n",
    "                          v2.ToDtype(torch.float32, scale=True),\n",
    "                          v2.Normalize(mean=[0.5, 0.5, 0.5], std=[0.5, 0.5, 0.5])])"
   ]
  },
  {
   "cell_type": "code",
   "execution_count": 6,
   "metadata": {},
   "outputs": [],
   "source": [
    "# This function is used later in DataLoaders to fix the seed setting bugs when using several workers\n",
    "\n",
    "def worker_init_fn(worker_id):\n",
    "    torch_seed = torch.initial_seed() % (2**32)\n",
    "    random.seed(torch_seed)\n",
    "    np.random.seed(torch_seed)"
   ]
  },
  {
   "cell_type": "markdown",
   "metadata": {},
   "source": [
    "**Датасет + DataLoaders:**"
   ]
  },
  {
   "cell_type": "code",
   "execution_count": 7,
   "metadata": {},
   "outputs": [],
   "source": [
    "def get_CIFAR10_data(train_transform=default_aug, test_transform=default_aug, env=\"colab\"):\n",
    "    root = get_root(env)\n",
    "    data_train = torchvision.datasets.CIFAR10(root=root, train=True, transform=train_transform, download=True)\n",
    "    print(\"Prepare Train Set: ✅\")\n",
    "    data_test = torchvision.datasets.CIFAR10(root=root, train=False, transform=test_transform)\n",
    "    print(\"Prepare Test Set:  ✅\")\n",
    "    return data_train, data_test"
   ]
  },
  {
   "cell_type": "code",
   "execution_count": 8,
   "metadata": {},
   "outputs": [],
   "source": [
    "def get_CIFAR10_dataloaders(batch_size, train_transform=default_aug, test_transform=default_aug, env=\"colab\"):\n",
    "    root = get_root(env)\n",
    "    data_train = torchvision.datasets.CIFAR10(root=root, train=True, transform=train_transform, download=True)\n",
    "    dataloader_train = torch.utils.data.DataLoader(data_train, batch_size=batch_size, shuffle=True, num_workers=4, worker_init_fn=worker_init_fn)\n",
    "    print(\"Prepare Train Set: ✅\")\n",
    "    data_test = torchvision.datasets.CIFAR10(root=root, train=False, transform=test_transform)\n",
    "    dataloader_test = torch.utils.data.DataLoader(data_test, batch_size=batch_size, shuffle=False, num_workers=4, worker_init_fn=worker_init_fn)\n",
    "    print(\"Prepare Test Set:  ✅\")\n",
    "    return dataloader_train, dataloader_test"
   ]
  },
  {
   "cell_type": "markdown",
   "metadata": {},
   "source": [
    "**Код цикла предобучения/дообучения SSL-метода:**"
   ]
  },
  {
   "cell_type": "code",
   "execution_count": 9,
   "metadata": {},
   "outputs": [],
   "source": [
    "def pretrain_epoch(model, optimizer, loader, scaler, epoch, exp):\n",
    "    step = (epoch - 1) * len(loader)\n",
    "\n",
    "    model.train()\n",
    "\n",
    "    for batch_idx, (data, _) in enumerate(tqdm(loader)):\n",
    "        data = data.to(memory_format=torch.channels_last) # this line is for a speedup (used in a combination with amp)\n",
    "        data = data.to(device)\n",
    "\n",
    "        optimizer.zero_grad()\n",
    "\n",
    "        with torch.autocast(\"cuda\", dtype=torch.float16, enabled=True):\n",
    "            loss = model(data).loss\n",
    "\n",
    "        scaler.scale(loss).backward()\n",
    "        scaler.step(optimizer)\n",
    "        scaler.update()\n",
    "\n",
    "        if exp is not None:\n",
    "            exp.log_metrics({\"SSL train loss (by steps)\": loss.item()}, step=(step + batch_idx))\n",
    "\n",
    "    return scaler\n",
    "\n",
    "\n",
    "def pretrain(model, exp_name, optimizer, epochs, pretrain_loader, scheduler=None, exp=None, env=\"colab\"):\n",
    "    scaler = torch.GradScaler(\"cuda\")\n",
    "    \n",
    "    for epoch in range(1, epochs + 1):\n",
    "        print(f\"Epoch {epoch}:\\n\")\n",
    "        scaler = pretrain_epoch(model, optimizer, pretrain_loader, scaler, epoch, exp)\n",
    "        \n",
    "        if scheduler is not None:\n",
    "            scheduler.step()\n",
    "\n",
    "    filepath = f\"{get_root(env)}weights_{exp_name}_epoch{epochs}.pth\"\n",
    "    torch.save(model.state_dict(), filepath)\n",
    "    print(\"Save State of the Best Model: ✅\")\n",
    "\n",
    "    if exp is not None:\n",
    "        exp.log_model(name=filepath[len(get_root(env)):-4],\n",
    "                      file_or_folder=filepath)"
   ]
  },
  {
   "cell_type": "code",
   "execution_count": 10,
   "metadata": {},
   "outputs": [
    {
     "name": "stdout",
     "output_type": "stream",
     "text": [
      "Please paste your Comet API key from https://www.comet.com/api/my/settings/\n",
      "(api key may not show as you type)\n"
     ]
    },
    {
     "name": "stdout",
     "output_type": "stream",
     "text": [
      "Comet API key:  ········\n"
     ]
    },
    {
     "name": "stderr",
     "output_type": "stream",
     "text": [
      "\u001b[1;38;5;39mCOMET INFO:\u001b[0m Valid Comet API Key saved in /home/mlcore/.comet.config (set COMET_CONFIG to change where it is saved).\n"
     ]
    }
   ],
   "source": [
    "comet_ml.login()"
   ]
  },
  {
   "cell_type": "code",
   "execution_count": 11,
   "metadata": {},
   "outputs": [],
   "source": [
    "device = torch.device('cuda' if torch.cuda.is_available() else 'cpu')"
   ]
  },
  {
   "cell_type": "code",
   "execution_count": 12,
   "metadata": {},
   "outputs": [],
   "source": [
    "NUM_EPOCHS = 50\n",
    "BATCH_SIZE = 128\n",
    "exp_name = \"MAE_Pretrain\""
   ]
  },
  {
   "cell_type": "code",
   "execution_count": 13,
   "metadata": {},
   "outputs": [
    {
     "data": {
      "application/vnd.jupyter.widget-view+json": {
       "model_id": "5ca50e964dfb461b9e6e8bd5877f097b",
       "version_major": 2,
       "version_minor": 0
      },
      "text/plain": [
       "config.json:   0%|          | 0.00/676 [00:00<?, ?B/s]"
      ]
     },
     "metadata": {},
     "output_type": "display_data"
    },
    {
     "name": "stdout",
     "output_type": "stream",
     "text": [
      "Files already downloaded and verified\n",
      "Prepare Train Set: ✅\n",
      "Prepare Test Set:  ✅\n"
     ]
    }
   ],
   "source": [
    "# random seed\n",
    "seed_everything(0)\n",
    "\n",
    "#model\n",
    "mae_config = ViTMAEConfig.from_pretrained(\"facebook/vit-mae-base\")\n",
    "mae_config.image_size = 32\n",
    "mae_config.patch_size = 8\n",
    "\n",
    "model = ViTMAEForPreTraining(mae_config).to(memory_format=torch.channels_last)\n",
    "model.to(device)\n",
    "\n",
    "# get data and batchify it\n",
    "train_loader, test_loader = get_CIFAR10_dataloaders(batch_size=BATCH_SIZE, env=\"colab\")\n",
    "\n",
    "# choose optimizer and scheduler (if needed)\n",
    "optimizer = torch.optim.Adam(model.parameters(), lr=1e-4)\n",
    "\n",
    "scheduler = torch.optim.lr_scheduler.CosineAnnealingLR(optimizer, T_max=NUM_EPOCHS, eta_min=1e-5)"
   ]
  },
  {
   "cell_type": "code",
   "execution_count": 14,
   "metadata": {},
   "outputs": [
    {
     "name": "stderr",
     "output_type": "stream",
     "text": [
      "\u001b[1;38;5;214mCOMET WARNING:\u001b[0m As you are running in a Jupyter environment, you will need to call `experiment.end()` when finished to ensure all metrics and code are logged before exiting.\n",
      "\u001b[1;38;5;39mCOMET INFO:\u001b[0m Experiment is live on comet.com https://www.comet.com/askoro/ssl-adversarial1/4076316c21924aa99818ca7e97539c57\n",
      "\n"
     ]
    },
    {
     "name": "stdout",
     "output_type": "stream",
     "text": [
      "Epoch 1:\n",
      "\n"
     ]
    },
    {
     "name": "stderr",
     "output_type": "stream",
     "text": [
      "\u001b[1;38;5;39mCOMET INFO:\u001b[0m Couldn't find a Git repository in '/workdir' nor in any parent directory. Set `COMET_GIT_DIRECTORY` if your Git Repository is elsewhere.\n",
      "100%|██████████| 391/391 [00:16<00:00, 23.80it/s]\n"
     ]
    },
    {
     "name": "stdout",
     "output_type": "stream",
     "text": [
      "Epoch 2:\n",
      "\n"
     ]
    },
    {
     "name": "stderr",
     "output_type": "stream",
     "text": [
      "100%|██████████| 391/391 [00:15<00:00, 25.21it/s]\n"
     ]
    },
    {
     "name": "stdout",
     "output_type": "stream",
     "text": [
      "Epoch 3:\n",
      "\n"
     ]
    },
    {
     "name": "stderr",
     "output_type": "stream",
     "text": [
      "100%|██████████| 391/391 [00:15<00:00, 25.26it/s]\n"
     ]
    },
    {
     "name": "stdout",
     "output_type": "stream",
     "text": [
      "Epoch 4:\n",
      "\n"
     ]
    },
    {
     "name": "stderr",
     "output_type": "stream",
     "text": [
      "100%|██████████| 391/391 [00:15<00:00, 25.03it/s]\n"
     ]
    },
    {
     "name": "stdout",
     "output_type": "stream",
     "text": [
      "Epoch 5:\n",
      "\n"
     ]
    },
    {
     "name": "stderr",
     "output_type": "stream",
     "text": [
      "100%|██████████| 391/391 [00:15<00:00, 24.94it/s]\n"
     ]
    },
    {
     "name": "stdout",
     "output_type": "stream",
     "text": [
      "Epoch 6:\n",
      "\n"
     ]
    },
    {
     "name": "stderr",
     "output_type": "stream",
     "text": [
      "100%|██████████| 391/391 [00:15<00:00, 24.78it/s]\n"
     ]
    },
    {
     "name": "stdout",
     "output_type": "stream",
     "text": [
      "Epoch 7:\n",
      "\n"
     ]
    },
    {
     "name": "stderr",
     "output_type": "stream",
     "text": [
      "100%|██████████| 391/391 [00:15<00:00, 25.21it/s]\n"
     ]
    },
    {
     "name": "stdout",
     "output_type": "stream",
     "text": [
      "Epoch 8:\n",
      "\n"
     ]
    },
    {
     "name": "stderr",
     "output_type": "stream",
     "text": [
      "100%|██████████| 391/391 [00:15<00:00, 25.01it/s]\n"
     ]
    },
    {
     "name": "stdout",
     "output_type": "stream",
     "text": [
      "Epoch 9:\n",
      "\n"
     ]
    },
    {
     "name": "stderr",
     "output_type": "stream",
     "text": [
      "100%|██████████| 391/391 [00:15<00:00, 24.82it/s]\n"
     ]
    },
    {
     "name": "stdout",
     "output_type": "stream",
     "text": [
      "Epoch 10:\n",
      "\n"
     ]
    },
    {
     "name": "stderr",
     "output_type": "stream",
     "text": [
      "100%|██████████| 391/391 [00:15<00:00, 24.82it/s]\n"
     ]
    },
    {
     "name": "stdout",
     "output_type": "stream",
     "text": [
      "Epoch 11:\n",
      "\n"
     ]
    },
    {
     "name": "stderr",
     "output_type": "stream",
     "text": [
      "100%|██████████| 391/391 [00:15<00:00, 25.08it/s]\n"
     ]
    },
    {
     "name": "stdout",
     "output_type": "stream",
     "text": [
      "Epoch 12:\n",
      "\n"
     ]
    },
    {
     "name": "stderr",
     "output_type": "stream",
     "text": [
      "100%|██████████| 391/391 [00:15<00:00, 24.71it/s]\n"
     ]
    },
    {
     "name": "stdout",
     "output_type": "stream",
     "text": [
      "Epoch 13:\n",
      "\n"
     ]
    },
    {
     "name": "stderr",
     "output_type": "stream",
     "text": [
      "100%|██████████| 391/391 [00:15<00:00, 25.05it/s]\n"
     ]
    },
    {
     "name": "stdout",
     "output_type": "stream",
     "text": [
      "Epoch 14:\n",
      "\n"
     ]
    },
    {
     "name": "stderr",
     "output_type": "stream",
     "text": [
      "100%|██████████| 391/391 [00:15<00:00, 25.04it/s]\n"
     ]
    },
    {
     "name": "stdout",
     "output_type": "stream",
     "text": [
      "Epoch 15:\n",
      "\n"
     ]
    },
    {
     "name": "stderr",
     "output_type": "stream",
     "text": [
      "100%|██████████| 391/391 [00:15<00:00, 25.05it/s]\n"
     ]
    },
    {
     "name": "stdout",
     "output_type": "stream",
     "text": [
      "Epoch 16:\n",
      "\n"
     ]
    },
    {
     "name": "stderr",
     "output_type": "stream",
     "text": [
      "100%|██████████| 391/391 [00:15<00:00, 24.79it/s]\n"
     ]
    },
    {
     "name": "stdout",
     "output_type": "stream",
     "text": [
      "Epoch 17:\n",
      "\n"
     ]
    },
    {
     "name": "stderr",
     "output_type": "stream",
     "text": [
      "100%|██████████| 391/391 [00:15<00:00, 24.46it/s]\n"
     ]
    },
    {
     "name": "stdout",
     "output_type": "stream",
     "text": [
      "Epoch 18:\n",
      "\n"
     ]
    },
    {
     "name": "stderr",
     "output_type": "stream",
     "text": [
      "100%|██████████| 391/391 [00:15<00:00, 25.05it/s]\n"
     ]
    },
    {
     "name": "stdout",
     "output_type": "stream",
     "text": [
      "Epoch 19:\n",
      "\n"
     ]
    },
    {
     "name": "stderr",
     "output_type": "stream",
     "text": [
      "100%|██████████| 391/391 [00:16<00:00, 24.32it/s]\n"
     ]
    },
    {
     "name": "stdout",
     "output_type": "stream",
     "text": [
      "Epoch 20:\n",
      "\n"
     ]
    },
    {
     "name": "stderr",
     "output_type": "stream",
     "text": [
      "100%|██████████| 391/391 [00:15<00:00, 24.89it/s]\n"
     ]
    },
    {
     "name": "stdout",
     "output_type": "stream",
     "text": [
      "Epoch 21:\n",
      "\n"
     ]
    },
    {
     "name": "stderr",
     "output_type": "stream",
     "text": [
      "100%|██████████| 391/391 [00:15<00:00, 24.48it/s]\n"
     ]
    },
    {
     "name": "stdout",
     "output_type": "stream",
     "text": [
      "Epoch 22:\n",
      "\n"
     ]
    },
    {
     "name": "stderr",
     "output_type": "stream",
     "text": [
      "100%|██████████| 391/391 [00:16<00:00, 23.36it/s]\n"
     ]
    },
    {
     "name": "stdout",
     "output_type": "stream",
     "text": [
      "Epoch 23:\n",
      "\n"
     ]
    },
    {
     "name": "stderr",
     "output_type": "stream",
     "text": [
      "100%|██████████| 391/391 [00:16<00:00, 23.90it/s]\n"
     ]
    },
    {
     "name": "stdout",
     "output_type": "stream",
     "text": [
      "Epoch 24:\n",
      "\n"
     ]
    },
    {
     "name": "stderr",
     "output_type": "stream",
     "text": [
      "100%|██████████| 391/391 [00:15<00:00, 24.86it/s]\n"
     ]
    },
    {
     "name": "stdout",
     "output_type": "stream",
     "text": [
      "Epoch 25:\n",
      "\n"
     ]
    },
    {
     "name": "stderr",
     "output_type": "stream",
     "text": [
      "100%|██████████| 391/391 [00:15<00:00, 24.77it/s]\n"
     ]
    },
    {
     "name": "stdout",
     "output_type": "stream",
     "text": [
      "Epoch 26:\n",
      "\n"
     ]
    },
    {
     "name": "stderr",
     "output_type": "stream",
     "text": [
      "100%|██████████| 391/391 [00:16<00:00, 24.29it/s]\n"
     ]
    },
    {
     "name": "stdout",
     "output_type": "stream",
     "text": [
      "Epoch 27:\n",
      "\n"
     ]
    },
    {
     "name": "stderr",
     "output_type": "stream",
     "text": [
      "100%|██████████| 391/391 [00:15<00:00, 24.63it/s]\n"
     ]
    },
    {
     "name": "stdout",
     "output_type": "stream",
     "text": [
      "Epoch 28:\n",
      "\n"
     ]
    },
    {
     "name": "stderr",
     "output_type": "stream",
     "text": [
      "100%|██████████| 391/391 [00:15<00:00, 25.02it/s]\n"
     ]
    },
    {
     "name": "stdout",
     "output_type": "stream",
     "text": [
      "Epoch 29:\n",
      "\n"
     ]
    },
    {
     "name": "stderr",
     "output_type": "stream",
     "text": [
      "100%|██████████| 391/391 [00:15<00:00, 24.97it/s]\n"
     ]
    },
    {
     "name": "stdout",
     "output_type": "stream",
     "text": [
      "Epoch 30:\n",
      "\n"
     ]
    },
    {
     "name": "stderr",
     "output_type": "stream",
     "text": [
      "100%|██████████| 391/391 [00:15<00:00, 25.31it/s]\n"
     ]
    },
    {
     "name": "stdout",
     "output_type": "stream",
     "text": [
      "Epoch 31:\n",
      "\n"
     ]
    },
    {
     "name": "stderr",
     "output_type": "stream",
     "text": [
      "100%|██████████| 391/391 [00:15<00:00, 24.76it/s]\n"
     ]
    },
    {
     "name": "stdout",
     "output_type": "stream",
     "text": [
      "Epoch 32:\n",
      "\n"
     ]
    },
    {
     "name": "stderr",
     "output_type": "stream",
     "text": [
      "100%|██████████| 391/391 [00:15<00:00, 25.01it/s]\n"
     ]
    },
    {
     "name": "stdout",
     "output_type": "stream",
     "text": [
      "Epoch 33:\n",
      "\n"
     ]
    },
    {
     "name": "stderr",
     "output_type": "stream",
     "text": [
      "100%|██████████| 391/391 [00:16<00:00, 24.33it/s]\n"
     ]
    },
    {
     "name": "stdout",
     "output_type": "stream",
     "text": [
      "Epoch 34:\n",
      "\n"
     ]
    },
    {
     "name": "stderr",
     "output_type": "stream",
     "text": [
      "100%|██████████| 391/391 [00:15<00:00, 25.12it/s]\n"
     ]
    },
    {
     "name": "stdout",
     "output_type": "stream",
     "text": [
      "Epoch 35:\n",
      "\n"
     ]
    },
    {
     "name": "stderr",
     "output_type": "stream",
     "text": [
      "100%|██████████| 391/391 [00:15<00:00, 25.13it/s]\n"
     ]
    },
    {
     "name": "stdout",
     "output_type": "stream",
     "text": [
      "Epoch 36:\n",
      "\n"
     ]
    },
    {
     "name": "stderr",
     "output_type": "stream",
     "text": [
      "100%|██████████| 391/391 [00:15<00:00, 24.83it/s]\n"
     ]
    },
    {
     "name": "stdout",
     "output_type": "stream",
     "text": [
      "Epoch 37:\n",
      "\n"
     ]
    },
    {
     "name": "stderr",
     "output_type": "stream",
     "text": [
      "100%|██████████| 391/391 [00:15<00:00, 24.47it/s]\n"
     ]
    },
    {
     "name": "stdout",
     "output_type": "stream",
     "text": [
      "Epoch 38:\n",
      "\n"
     ]
    },
    {
     "name": "stderr",
     "output_type": "stream",
     "text": [
      "100%|██████████| 391/391 [00:15<00:00, 25.07it/s]\n"
     ]
    },
    {
     "name": "stdout",
     "output_type": "stream",
     "text": [
      "Epoch 39:\n",
      "\n"
     ]
    },
    {
     "name": "stderr",
     "output_type": "stream",
     "text": [
      "100%|██████████| 391/391 [00:15<00:00, 24.56it/s]\n"
     ]
    },
    {
     "name": "stdout",
     "output_type": "stream",
     "text": [
      "Epoch 40:\n",
      "\n"
     ]
    },
    {
     "name": "stderr",
     "output_type": "stream",
     "text": [
      "100%|██████████| 391/391 [00:15<00:00, 24.82it/s]\n"
     ]
    },
    {
     "name": "stdout",
     "output_type": "stream",
     "text": [
      "Epoch 41:\n",
      "\n"
     ]
    },
    {
     "name": "stderr",
     "output_type": "stream",
     "text": [
      "100%|██████████| 391/391 [00:15<00:00, 24.73it/s]\n"
     ]
    },
    {
     "name": "stdout",
     "output_type": "stream",
     "text": [
      "Epoch 42:\n",
      "\n"
     ]
    },
    {
     "name": "stderr",
     "output_type": "stream",
     "text": [
      "100%|██████████| 391/391 [00:15<00:00, 24.52it/s]\n"
     ]
    },
    {
     "name": "stdout",
     "output_type": "stream",
     "text": [
      "Epoch 43:\n",
      "\n"
     ]
    },
    {
     "name": "stderr",
     "output_type": "stream",
     "text": [
      "100%|██████████| 391/391 [00:16<00:00, 24.31it/s]\n"
     ]
    },
    {
     "name": "stdout",
     "output_type": "stream",
     "text": [
      "Epoch 44:\n",
      "\n"
     ]
    },
    {
     "name": "stderr",
     "output_type": "stream",
     "text": [
      "100%|██████████| 391/391 [00:15<00:00, 24.98it/s]\n"
     ]
    },
    {
     "name": "stdout",
     "output_type": "stream",
     "text": [
      "Epoch 45:\n",
      "\n"
     ]
    },
    {
     "name": "stderr",
     "output_type": "stream",
     "text": [
      "100%|██████████| 391/391 [00:15<00:00, 24.95it/s]\n"
     ]
    },
    {
     "name": "stdout",
     "output_type": "stream",
     "text": [
      "Epoch 46:\n",
      "\n"
     ]
    },
    {
     "name": "stderr",
     "output_type": "stream",
     "text": [
      "100%|██████████| 391/391 [00:16<00:00, 24.33it/s]\n"
     ]
    },
    {
     "name": "stdout",
     "output_type": "stream",
     "text": [
      "Epoch 47:\n",
      "\n"
     ]
    },
    {
     "name": "stderr",
     "output_type": "stream",
     "text": [
      "100%|██████████| 391/391 [00:15<00:00, 24.68it/s]\n"
     ]
    },
    {
     "name": "stdout",
     "output_type": "stream",
     "text": [
      "Epoch 48:\n",
      "\n"
     ]
    },
    {
     "name": "stderr",
     "output_type": "stream",
     "text": [
      "100%|██████████| 391/391 [00:15<00:00, 24.84it/s]\n"
     ]
    },
    {
     "name": "stdout",
     "output_type": "stream",
     "text": [
      "Epoch 49:\n",
      "\n"
     ]
    },
    {
     "name": "stderr",
     "output_type": "stream",
     "text": [
      "100%|██████████| 391/391 [00:15<00:00, 24.64it/s]\n"
     ]
    },
    {
     "name": "stdout",
     "output_type": "stream",
     "text": [
      "Epoch 50:\n",
      "\n"
     ]
    },
    {
     "name": "stderr",
     "output_type": "stream",
     "text": [
      "100%|██████████| 391/391 [00:15<00:00, 25.14it/s]\n"
     ]
    },
    {
     "name": "stdout",
     "output_type": "stream",
     "text": [
      "Save State of the Best Model: ✅\n"
     ]
    },
    {
     "name": "stderr",
     "output_type": "stream",
     "text": [
      "\u001b[1;38;5;39mCOMET INFO:\u001b[0m ---------------------------------------------------------------------------------------\n",
      "\u001b[1;38;5;39mCOMET INFO:\u001b[0m Comet.ml Experiment Summary\n",
      "\u001b[1;38;5;39mCOMET INFO:\u001b[0m ---------------------------------------------------------------------------------------\n",
      "\u001b[1;38;5;39mCOMET INFO:\u001b[0m   Data:\n",
      "\u001b[1;38;5;39mCOMET INFO:\u001b[0m     display_summary_level : 1\n",
      "\u001b[1;38;5;39mCOMET INFO:\u001b[0m     name                  : MAE_Pretrain\n",
      "\u001b[1;38;5;39mCOMET INFO:\u001b[0m     url                   : https://www.comet.com/askoro/ssl-adversarial1/4076316c21924aa99818ca7e97539c57\n",
      "\u001b[1;38;5;39mCOMET INFO:\u001b[0m   Metrics [count] (min, max):\n",
      "\u001b[1;38;5;39mCOMET INFO:\u001b[0m     SSL train loss (by steps) [19550] : (0.09143493324518204, 0.4419786036014557)\n",
      "\u001b[1;38;5;39mCOMET INFO:\u001b[0m     loss [1955]                       : (8002.61572265625, 2210196.75)\n",
      "\u001b[1;38;5;39mCOMET INFO:\u001b[0m   Others:\n",
      "\u001b[1;38;5;39mCOMET INFO:\u001b[0m     Name : MAE_Pretrain\n",
      "\u001b[1;38;5;39mCOMET INFO:\u001b[0m   Uploads:\n",
      "\u001b[1;38;5;39mCOMET INFO:\u001b[0m     environment details : 1\n",
      "\u001b[1;38;5;39mCOMET INFO:\u001b[0m     filename            : 1\n",
      "\u001b[1;38;5;39mCOMET INFO:\u001b[0m     installed packages  : 1\n",
      "\u001b[1;38;5;39mCOMET INFO:\u001b[0m     model-element       : 1 (423.34 MB)\n",
      "\u001b[1;38;5;39mCOMET INFO:\u001b[0m     notebook            : 1\n",
      "\u001b[1;38;5;39mCOMET INFO:\u001b[0m     os packages         : 1\n",
      "\u001b[1;38;5;39mCOMET INFO:\u001b[0m     source_code         : 1\n",
      "\u001b[1;38;5;39mCOMET INFO:\u001b[0m \n",
      "\u001b[1;38;5;39mCOMET INFO:\u001b[0m Please wait for assets to finish uploading (timeout is 10800 seconds)\n",
      "\u001b[1;38;5;39mCOMET INFO:\u001b[0m Still uploading 1 file(s), remaining 423.34 MB/423.34 MB\n",
      "\u001b[1;38;5;39mCOMET INFO:\u001b[0m Still uploading 1 asset(s), remaining 303.34 MB/423.34 MB, Throughput 7.99 MB/s, ETA ~38s\n",
      "\u001b[1;38;5;39mCOMET INFO:\u001b[0m Still uploading 1 asset(s), remaining 183.34 MB/423.34 MB, Throughput 7.99 MB/s, ETA ~23s\n",
      "\u001b[1;38;5;39mCOMET INFO:\u001b[0m Still uploading 1 asset(s), remaining 68.34 MB/423.34 MB, Throughput 7.66 MB/s, ETA ~9s\n"
     ]
    }
   ],
   "source": [
    "exp = comet_ml.Experiment(project_name=\"SSL_Adversarial1\")\n",
    "exp.set_name(exp_name)\n",
    "\n",
    "pretrain(model, exp_name, optimizer, NUM_EPOCHS, train_loader, scheduler=scheduler, exp=exp, env=\"colab\")\n",
    "\n",
    "exp.end()"
   ]
  },
  {
   "cell_type": "markdown",
   "metadata": {},
   "source": [
    "**Код для обычного/adversarial Fine-Tuning'а (на одном GPU):**"
   ]
  },
  {
   "cell_type": "code",
   "execution_count": 15,
   "metadata": {},
   "outputs": [],
   "source": [
    "def eval_epoch(model, loader, attack=None):\n",
    "    val_loss = 0.\n",
    "    val_acc = 0.\n",
    "\n",
    "    model.eval()\n",
    "\n",
    "    for data, target in tqdm(loader):\n",
    "        data = data.to(memory_format=torch.channels_last) # this line is for a speedup (used in a combination with amp)\n",
    "        data = data.to(device)\n",
    "        target = target.to(device)\n",
    "\n",
    "        if attack is not None:\n",
    "            # perform adversarial attack\n",
    "            with torch.enable_grad():\n",
    "                data = attack(data, target)\n",
    "        \n",
    "        logits = model(data)\n",
    "        loss = torch.nn.functional.cross_entropy(logits, target)\n",
    "\n",
    "        val_loss += (loss.item() * data.shape[0])\n",
    "        val_acc += (torch.argmax(logits, dim=1) == target).sum().item()\n",
    "\n",
    "    val_loss /= len(loader.dataset)\n",
    "    val_acc /= len(loader.dataset)\n",
    "    return val_loss, val_acc\n",
    "\n",
    "\n",
    "def train_epoch(model, optimizer, loader, scaler, epoch, exp, is_attack_used=False):\n",
    "    train_loss = 0.\n",
    "    train_acc = 0.\n",
    "\n",
    "    step = (epoch - 1) * len(loader)\n",
    "\n",
    "    model.train()\n",
    "\n",
    "    for batch_idx, (data, target) in enumerate(tqdm(loader)):\n",
    "        data = data.to(memory_format=torch.channels_last) # this line is for a speedup (used in a combination with amp)\n",
    "        data = data.to(device)\n",
    "        target = target.to(device)\n",
    "\n",
    "        if is_attack_used != \"no\":\n",
    "            if is_attack_used == \"BIM\":\n",
    "                attack = torchattacks.BIM(model, eps=(4 / 255), alpha=(2 / 255), steps=5)\n",
    "            else:\n",
    "                attack = torchattacks.PGD(model, eps=(4 / 255), alpha=(2 / 255), steps=5)\n",
    "            # perform adversarial attack\n",
    "            data = attack(data, target)\n",
    "\n",
    "        optimizer.zero_grad()\n",
    "\n",
    "        with torch.autocast(\"cuda\", dtype=torch.float16, enabled=True):\n",
    "            logits = model(data)\n",
    "            loss = torch.nn.functional.cross_entropy(logits, target)\n",
    "\n",
    "        scaler.scale(loss).backward()\n",
    "        scaler.step(optimizer)\n",
    "        scaler.update()\n",
    "\n",
    "        with torch.no_grad():\n",
    "            train_loss += loss.item() * data.shape[0]\n",
    "            train_acc += (torch.argmax(logits, dim=1) == target).sum().item()\n",
    "\n",
    "        if exp is not None:\n",
    "            exp.log_metrics({\"train loss (by steps)\": loss.item()}, step=(step + batch_idx))\n",
    "\n",
    "    train_loss /= len(loader.dataset)\n",
    "    train_acc /= len(loader.dataset)\n",
    "    return train_loss, train_acc, scaler\n",
    "\n",
    "\n",
    "def train(model, exp_name, optimizer, epochs, train_loader, val_loader, is_train_attack_used=\"no\", scheduler=None, exp=None, env=\"colab\"):\n",
    "    best_val_acc = 0.\n",
    "    best_val_acc_epoch = None\n",
    "    best_model_state_filepath = None\n",
    "\n",
    "    val_attacks_names = [\"No Attack\"]\n",
    "\n",
    "    scaler = torch.GradScaler(\"cuda\")\n",
    "\n",
    "    for epoch in range(1, epochs + 1):\n",
    "        print(f\"Epoch {epoch}:\\n\")\n",
    "        metrics = dict()\n",
    "        \n",
    "        train_loss, train_acc, scaler = train_epoch(model, optimizer, train_loader, scaler, epoch, exp, is_attack_used=is_train_attack_used)\n",
    "\n",
    "        val_attacks = [None]\n",
    "        \n",
    "        for it in range(len(val_attacks)):\n",
    "            val_loss, val_acc = eval_epoch(model, val_loader, attack=val_attacks[it])\n",
    "            metrics[val_attacks_names[it]] = {\"Loss\": val_loss, \"Accuracy\": val_acc}\n",
    "\n",
    "        if scheduler is not None:\n",
    "            scheduler.step()\n",
    "\n",
    "        print(\"\\n\")\n",
    "        print(\" Train:\")\n",
    "        print(f\"  Loss: {train_loss}, Accuracy: {train_acc}\")\n",
    "        print(\" Validation:\")\n",
    "        for it in metrics.items():\n",
    "            print(f\"  Loss: {it[1]['Loss']}, Accuracy: {it[1]['Accuracy']}\")\n",
    "\n",
    "\n",
    "        if exp is not None:\n",
    "            exp.log_metrics(\n",
    "                   {\"train loss\": train_loss,\n",
    "                    \"train accuracy\": train_acc},\n",
    "                    step=(epoch * len(train_loader)))\n",
    "            for it in metrics.items():\n",
    "                exp.log_metrics(\n",
    "                    {f\"validation loss ({it[0]})\": it[1]['Loss'],\n",
    "                     f\"validation accuracy ({it[0]})\": it[1]['Accuracy']},\n",
    "                     step=(epoch * len(train_loader)))\n",
    "\n",
    "        val_acc = metrics[\"No Attack\"][\"Accuracy\"]\n",
    "        \n",
    "        if val_acc > best_val_acc:\n",
    "            print(\"🎉🎉🎉 New Best Validation Accuracy 🎉🎉🎉\")\n",
    "            best_val_acc = val_acc\n",
    "            best_val_acc_epoch = epoch\n",
    "            filepath = f\"{get_root(env)}best_weights_{exp_name}_epoch{best_val_acc_epoch}.pth\"\n",
    "            torch.save(model.state_dict(), filepath)\n",
    "            print(\"Save State of the Best Model: ✅\")\n",
    "            if best_model_state_filepath is not None:\n",
    "                os.remove(best_model_state_filepath)\n",
    "                print(\"Delete State File of the Previous Best Model: ✅\")\n",
    "            best_model_state_filepath = filepath\n",
    "\n",
    "        print('-----------------------------------------------------------------\\n')\n",
    "\n",
    "    if exp is not None:\n",
    "        exp.log_model(name=best_model_state_filepath[len(get_root(env)):-4],\n",
    "                      file_or_folder=best_model_state_filepath)\n",
    "\n",
    "\n",
    "def test(model, loader, env=\"colab\"):\n",
    "    attacks_names = [\"No Attack\", \"i-FGSM\", \"PGD\", \"DI-FGSM\"]\n",
    "    \n",
    "    metrics = dict()\n",
    "\n",
    "    attacks = [None, \n",
    "               torchattacks.BIM(model, eps=(8 / 255), alpha=(2 / 255), steps=10),\n",
    "               torchattacks.PGD(model, eps=(8 / 255), alpha=(2 / 255), steps=10),\n",
    "               torchattacks.DIFGSM(model, eps=(8 / 255), alpha=(2 / 255), steps=10, resize_rate=0.9, diversity_prob=0.5)\n",
    "              ]\n",
    "    \n",
    "    for it in range(len(attacks)):\n",
    "        loss, acc = eval_epoch(model, loader, attack=attacks[it])\n",
    "        metrics[attacks_names[it]] = {\"Loss\": loss, \"Accuracy\": acc}\n",
    "\n",
    "    print(\"\\n\")\n",
    "    print(\"Final Metrics:\")\n",
    "    for it in metrics.items():\n",
    "        print(f\" {it[0]}:\")\n",
    "        print(f\"   Loss: {it[1]['Loss']}, Accuracy: {it[1]['Accuracy']}\")\n"
   ]
  },
  {
   "cell_type": "markdown",
   "metadata": {},
   "source": [
    "# Эксперименты"
   ]
  },
  {
   "cell_type": "markdown",
   "metadata": {},
   "source": [
    "**Downstream-модель:**"
   ]
  },
  {
   "cell_type": "code",
   "execution_count": 16,
   "metadata": {},
   "outputs": [],
   "source": [
    "class DownstreamModel(torch.nn.Module):\n",
    "    def __init__(self, encoder, head):\n",
    "        super(DownstreamModel, self).__init__()\n",
    "        self.encoder = encoder\n",
    "        self.head = head\n",
    "\n",
    "    def forward(self, x):\n",
    "        enc_features = self.encoder(x).last_hidden_state[:, 0, :]\n",
    "        logits = self.head(enc_features)\n",
    "        return logits"
   ]
  },
  {
   "cell_type": "markdown",
   "metadata": {},
   "source": [
    "**Берём энкодер из модели, прикрепляем линейную голову:**"
   ]
  },
  {
   "cell_type": "code",
   "execution_count": 17,
   "metadata": {},
   "outputs": [
    {
     "data": {
      "text/plain": [
       "DownstreamModel(\n",
       "  (encoder): ViTMAEModel(\n",
       "    (embeddings): ViTMAEEmbeddings(\n",
       "      (patch_embeddings): ViTMAEPatchEmbeddings(\n",
       "        (projection): Conv2d(3, 768, kernel_size=(8, 8), stride=(8, 8))\n",
       "      )\n",
       "    )\n",
       "    (encoder): ViTMAEEncoder(\n",
       "      (layer): ModuleList(\n",
       "        (0-11): 12 x ViTMAELayer(\n",
       "          (attention): ViTMAESdpaAttention(\n",
       "            (attention): ViTMAESdpaSelfAttention(\n",
       "              (query): Linear(in_features=768, out_features=768, bias=True)\n",
       "              (key): Linear(in_features=768, out_features=768, bias=True)\n",
       "              (value): Linear(in_features=768, out_features=768, bias=True)\n",
       "              (dropout): Dropout(p=0.0, inplace=False)\n",
       "            )\n",
       "            (output): ViTMAESelfOutput(\n",
       "              (dense): Linear(in_features=768, out_features=768, bias=True)\n",
       "              (dropout): Dropout(p=0.0, inplace=False)\n",
       "            )\n",
       "          )\n",
       "          (intermediate): ViTMAEIntermediate(\n",
       "            (dense): Linear(in_features=768, out_features=3072, bias=True)\n",
       "            (intermediate_act_fn): GELUActivation()\n",
       "          )\n",
       "          (output): ViTMAEOutput(\n",
       "            (dense): Linear(in_features=3072, out_features=768, bias=True)\n",
       "            (dropout): Dropout(p=0.0, inplace=False)\n",
       "          )\n",
       "          (layernorm_before): LayerNorm((768,), eps=1e-12, elementwise_affine=True)\n",
       "          (layernorm_after): LayerNorm((768,), eps=1e-12, elementwise_affine=True)\n",
       "        )\n",
       "      )\n",
       "    )\n",
       "    (layernorm): LayerNorm((768,), eps=1e-12, elementwise_affine=True)\n",
       "  )\n",
       "  (head): Sequential(\n",
       "    (0): Linear(in_features=768, out_features=1536, bias=True)\n",
       "    (1): GELU(approximate='none')\n",
       "    (2): Linear(in_features=1536, out_features=10, bias=True)\n",
       "  )\n",
       ")"
      ]
     },
     "execution_count": 17,
     "metadata": {},
     "output_type": "execute_result"
    }
   ],
   "source": [
    "seed_everything(0)\n",
    "\n",
    "device = torch.device('cuda' if torch.cuda.is_available() else 'cpu')\n",
    "\n",
    "mae_config = ViTMAEConfig.from_pretrained(\"facebook/vit-mae-base\")\n",
    "mae_config.image_size = 32\n",
    "mae_config.patch_size = 8\n",
    "\n",
    "model = ViTMAEForPreTraining(mae_config).to(memory_format=torch.channels_last)\n",
    "model.to(device)\n",
    "\n",
    "model_state_dict = torch.load(\"./weights_MAE_Pretrain_epoch50.pth\", map_location=device, weights_only=False)\n",
    "\n",
    "model.load_state_dict(model_state_dict)\n",
    "\n",
    "# here I take only the backbone of the model and then use it as an encoder in a downstream model \n",
    "encoder = model.vit\n",
    "\n",
    "# initialize new head\n",
    "NUM_CLASSES = 10 # there are 10 classes in CIFAR10\n",
    "HIDDEN_SIZE = 768 # hidden size of MAE\n",
    "\n",
    "head = torch.nn.Sequential(\n",
    "    torch.nn.Linear(HIDDEN_SIZE, 2 * HIDDEN_SIZE),\n",
    "    torch.nn.GELU(),\n",
    "    torch.nn.Linear(2 * HIDDEN_SIZE, NUM_CLASSES)\n",
    ")\n",
    "\n",
    "# create downstream model\n",
    "model = DownstreamModel(encoder=encoder, head=head).to(memory_format=torch.channels_last)\n",
    "model.to(device)"
   ]
  },
  {
   "cell_type": "markdown",
   "metadata": {},
   "source": [
    "**MAE (SFT):**"
   ]
  },
  {
   "cell_type": "code",
   "execution_count": 18,
   "metadata": {},
   "outputs": [],
   "source": [
    "comet_ml.login()"
   ]
  },
  {
   "cell_type": "code",
   "execution_count": 19,
   "metadata": {},
   "outputs": [],
   "source": [
    "# choose device for computing\n",
    "device = torch.device('cuda' if torch.cuda.is_available() else 'cpu')"
   ]
  },
  {
   "cell_type": "code",
   "execution_count": 20,
   "metadata": {},
   "outputs": [],
   "source": [
    "NUM_EPOCHS = 10\n",
    "BATCH_SIZE = 128\n",
    "exp_name = \"MAE_SFT\""
   ]
  },
  {
   "cell_type": "code",
   "execution_count": 21,
   "metadata": {},
   "outputs": [
    {
     "name": "stdout",
     "output_type": "stream",
     "text": [
      "Files already downloaded and verified\n",
      "Prepare Train Set: ✅\n",
      "Prepare Test Set:  ✅\n"
     ]
    }
   ],
   "source": [
    "# random seed\n",
    "seed_everything(0)\n",
    "\n",
    "# get data and batchify it\n",
    "train_loader, test_loader = get_CIFAR10_dataloaders(batch_size=BATCH_SIZE, env=\"colab\")\n",
    "\n",
    "# choose optimizer and scheduler (if needed)\n",
    "optimizer = torch.optim.Adam(model.parameters(), lr=5e-5, weight_decay=1e-4)\n",
    "\n",
    "scheduler = torch.optim.lr_scheduler.CosineAnnealingLR(optimizer, T_max=NUM_EPOCHS)"
   ]
  },
  {
   "cell_type": "code",
   "execution_count": 22,
   "metadata": {},
   "outputs": [
    {
     "name": "stderr",
     "output_type": "stream",
     "text": [
      "\u001b[1;38;5;214mCOMET WARNING:\u001b[0m As you are running in a Jupyter environment, you will need to call `experiment.end()` when finished to ensure all metrics and code are logged before exiting.\n",
      "\u001b[1;38;5;39mCOMET INFO:\u001b[0m Experiment is live on comet.com https://www.comet.com/askoro/ssl-adversarial1/5568368033474f3fae3bd9b1783a9e21\n",
      "\n",
      "\u001b[1;38;5;39mCOMET INFO:\u001b[0m Couldn't find a Git repository in '/workdir' nor in any parent directory. Set `COMET_GIT_DIRECTORY` if your Git Repository is elsewhere.\n"
     ]
    },
    {
     "name": "stdout",
     "output_type": "stream",
     "text": [
      "Epoch 1:\n",
      "\n"
     ]
    },
    {
     "name": "stderr",
     "output_type": "stream",
     "text": [
      "100%|██████████| 391/391 [00:11<00:00, 33.71it/s]\n",
      "100%|██████████| 79/79 [00:01<00:00, 52.01it/s]\n"
     ]
    },
    {
     "name": "stdout",
     "output_type": "stream",
     "text": [
      "\n",
      "\n",
      " Train:\n",
      "  Loss: 1.6217463385391235, Accuracy: 0.4109\n",
      " Validation:\n",
      "  Loss: 1.532886388015747, Accuracy: 0.4478\n",
      "🎉🎉🎉 New Best Validation Accuracy 🎉🎉🎉\n",
      "Save State of the Best Model: ✅\n",
      "-----------------------------------------------------------------\n",
      "\n",
      "Epoch 2:\n",
      "\n"
     ]
    },
    {
     "name": "stderr",
     "output_type": "stream",
     "text": [
      "100%|██████████| 391/391 [00:11<00:00, 34.19it/s]\n",
      "100%|██████████| 79/79 [00:01<00:00, 53.09it/s]\n"
     ]
    },
    {
     "name": "stdout",
     "output_type": "stream",
     "text": [
      "\n",
      "\n",
      " Train:\n",
      "  Loss: 1.4979586212158202, Accuracy: 0.45912\n",
      " Validation:\n",
      "  Loss: 1.50326611328125, Accuracy: 0.4542\n",
      "🎉🎉🎉 New Best Validation Accuracy 🎉🎉🎉\n",
      "Save State of the Best Model: ✅\n",
      "Delete State File of the Previous Best Model: ✅\n",
      "-----------------------------------------------------------------\n",
      "\n",
      "Epoch 3:\n",
      "\n"
     ]
    },
    {
     "name": "stderr",
     "output_type": "stream",
     "text": [
      "100%|██████████| 391/391 [00:11<00:00, 33.26it/s]\n",
      "100%|██████████| 79/79 [00:01<00:00, 56.89it/s]\n"
     ]
    },
    {
     "name": "stdout",
     "output_type": "stream",
     "text": [
      "\n",
      "\n",
      " Train:\n",
      "  Loss: 1.4535465853118896, Accuracy: 0.47314\n",
      " Validation:\n",
      "  Loss: 1.4816634441375733, Accuracy: 0.4673\n",
      "🎉🎉🎉 New Best Validation Accuracy 🎉🎉🎉\n",
      "Save State of the Best Model: ✅\n",
      "Delete State File of the Previous Best Model: ✅\n",
      "-----------------------------------------------------------------\n",
      "\n",
      "Epoch 4:\n",
      "\n"
     ]
    },
    {
     "name": "stderr",
     "output_type": "stream",
     "text": [
      "100%|██████████| 391/391 [00:11<00:00, 33.64it/s]\n",
      "100%|██████████| 79/79 [00:01<00:00, 57.43it/s]\n"
     ]
    },
    {
     "name": "stdout",
     "output_type": "stream",
     "text": [
      "\n",
      "\n",
      " Train:\n",
      "  Loss: 1.4103065325546265, Accuracy: 0.49308\n",
      " Validation:\n",
      "  Loss: 1.4354488714218139, Accuracy: 0.4853\n",
      "🎉🎉🎉 New Best Validation Accuracy 🎉🎉🎉\n",
      "Save State of the Best Model: ✅\n",
      "Delete State File of the Previous Best Model: ✅\n",
      "-----------------------------------------------------------------\n",
      "\n",
      "Epoch 5:\n",
      "\n"
     ]
    },
    {
     "name": "stderr",
     "output_type": "stream",
     "text": [
      "100%|██████████| 391/391 [00:11<00:00, 33.18it/s]\n",
      "100%|██████████| 79/79 [00:01<00:00, 55.74it/s]\n"
     ]
    },
    {
     "name": "stdout",
     "output_type": "stream",
     "text": [
      "\n",
      "\n",
      " Train:\n",
      "  Loss: 1.3762778509521485, Accuracy: 0.50364\n",
      " Validation:\n",
      "  Loss: 1.3977575246810914, Accuracy: 0.4925\n",
      "🎉🎉🎉 New Best Validation Accuracy 🎉🎉🎉\n",
      "Save State of the Best Model: ✅\n",
      "Delete State File of the Previous Best Model: ✅\n",
      "-----------------------------------------------------------------\n",
      "\n",
      "Epoch 6:\n",
      "\n"
     ]
    },
    {
     "name": "stderr",
     "output_type": "stream",
     "text": [
      "100%|██████████| 391/391 [00:11<00:00, 33.95it/s]\n",
      "100%|██████████| 79/79 [00:01<00:00, 56.12it/s]\n"
     ]
    },
    {
     "name": "stdout",
     "output_type": "stream",
     "text": [
      "\n",
      "\n",
      " Train:\n",
      "  Loss: 1.343213681602478, Accuracy: 0.51824\n",
      " Validation:\n",
      "  Loss: 1.38383436794281, Accuracy: 0.5011\n",
      "🎉🎉🎉 New Best Validation Accuracy 🎉🎉🎉\n",
      "Save State of the Best Model: ✅\n",
      "Delete State File of the Previous Best Model: ✅\n",
      "-----------------------------------------------------------------\n",
      "\n",
      "Epoch 7:\n",
      "\n"
     ]
    },
    {
     "name": "stderr",
     "output_type": "stream",
     "text": [
      "100%|██████████| 391/391 [00:11<00:00, 33.50it/s]\n",
      "100%|██████████| 79/79 [00:01<00:00, 57.04it/s]\n"
     ]
    },
    {
     "name": "stdout",
     "output_type": "stream",
     "text": [
      "\n",
      "\n",
      " Train:\n",
      "  Loss: 1.3019963614273071, Accuracy: 0.52898\n",
      " Validation:\n",
      "  Loss: 1.3640987327575684, Accuracy: 0.5072\n",
      "🎉🎉🎉 New Best Validation Accuracy 🎉🎉🎉\n",
      "Save State of the Best Model: ✅\n",
      "Delete State File of the Previous Best Model: ✅\n",
      "-----------------------------------------------------------------\n",
      "\n",
      "Epoch 8:\n",
      "\n"
     ]
    },
    {
     "name": "stderr",
     "output_type": "stream",
     "text": [
      "100%|██████████| 391/391 [00:11<00:00, 34.03it/s]\n",
      "100%|██████████| 79/79 [00:01<00:00, 56.30it/s]\n"
     ]
    },
    {
     "name": "stdout",
     "output_type": "stream",
     "text": [
      "\n",
      "\n",
      " Train:\n",
      "  Loss: 1.2774240390777587, Accuracy: 0.54162\n",
      " Validation:\n",
      "  Loss: 1.3421516593933105, Accuracy: 0.516\n",
      "🎉🎉🎉 New Best Validation Accuracy 🎉🎉🎉\n",
      "Save State of the Best Model: ✅\n",
      "Delete State File of the Previous Best Model: ✅\n",
      "-----------------------------------------------------------------\n",
      "\n",
      "Epoch 9:\n",
      "\n"
     ]
    },
    {
     "name": "stderr",
     "output_type": "stream",
     "text": [
      "100%|██████████| 391/391 [00:11<00:00, 33.44it/s]\n",
      "100%|██████████| 79/79 [00:01<00:00, 52.42it/s]\n"
     ]
    },
    {
     "name": "stdout",
     "output_type": "stream",
     "text": [
      "\n",
      "\n",
      " Train:\n",
      "  Loss: 1.2548490881347656, Accuracy: 0.55064\n",
      " Validation:\n",
      "  Loss: 1.3412175596237184, Accuracy: 0.5159\n",
      "-----------------------------------------------------------------\n",
      "\n",
      "Epoch 10:\n",
      "\n"
     ]
    },
    {
     "name": "stderr",
     "output_type": "stream",
     "text": [
      "100%|██████████| 391/391 [00:11<00:00, 33.49it/s]\n",
      "100%|██████████| 79/79 [00:01<00:00, 56.19it/s]\n"
     ]
    },
    {
     "name": "stdout",
     "output_type": "stream",
     "text": [
      "\n",
      "\n",
      " Train:\n",
      "  Loss: 1.2454099044799805, Accuracy: 0.55164\n",
      " Validation:\n",
      "  Loss: 1.3267727630615234, Accuracy: 0.5236\n",
      "🎉🎉🎉 New Best Validation Accuracy 🎉🎉🎉\n",
      "Save State of the Best Model: ✅\n",
      "Delete State File of the Previous Best Model: ✅\n",
      "-----------------------------------------------------------------\n",
      "\n"
     ]
    },
    {
     "name": "stderr",
     "output_type": "stream",
     "text": [
      "\u001b[1;38;5;39mCOMET INFO:\u001b[0m ---------------------------------------------------------------------------------------\n",
      "\u001b[1;38;5;39mCOMET INFO:\u001b[0m Comet.ml Experiment Summary\n",
      "\u001b[1;38;5;39mCOMET INFO:\u001b[0m ---------------------------------------------------------------------------------------\n",
      "\u001b[1;38;5;39mCOMET INFO:\u001b[0m   Data:\n",
      "\u001b[1;38;5;39mCOMET INFO:\u001b[0m     display_summary_level : 1\n",
      "\u001b[1;38;5;39mCOMET INFO:\u001b[0m     name                  : MAE_SFT\n",
      "\u001b[1;38;5;39mCOMET INFO:\u001b[0m     url                   : https://www.comet.com/askoro/ssl-adversarial1/5568368033474f3fae3bd9b1783a9e21\n",
      "\u001b[1;38;5;39mCOMET INFO:\u001b[0m   Metrics [count] (min, max):\n",
      "\u001b[1;38;5;39mCOMET INFO:\u001b[0m     loss [392]                           : (79577.03125, 200933.828125)\n",
      "\u001b[1;38;5;39mCOMET INFO:\u001b[0m     train accuracy [10]                  : (0.4109, 0.55164)\n",
      "\u001b[1;38;5;39mCOMET INFO:\u001b[0m     train loss (by steps) [3910]         : (0.9872626066207886, 2.3300628662109375)\n",
      "\u001b[1;38;5;39mCOMET INFO:\u001b[0m     train loss [10]                      : (1.2454099044799805, 1.6217463385391235)\n",
      "\u001b[1;38;5;39mCOMET INFO:\u001b[0m     validation accuracy (No Attack) [10] : (0.4478, 0.5236)\n",
      "\u001b[1;38;5;39mCOMET INFO:\u001b[0m     validation loss (No Attack) [10]     : (1.3267727630615234, 1.532886388015747)\n",
      "\u001b[1;38;5;39mCOMET INFO:\u001b[0m   Others:\n",
      "\u001b[1;38;5;39mCOMET INFO:\u001b[0m     Name : MAE_SFT\n",
      "\u001b[1;38;5;39mCOMET INFO:\u001b[0m   Uploads:\n",
      "\u001b[1;38;5;39mCOMET INFO:\u001b[0m     environment details : 1\n",
      "\u001b[1;38;5;39mCOMET INFO:\u001b[0m     filename            : 1\n",
      "\u001b[1;38;5;39mCOMET INFO:\u001b[0m     installed packages  : 1\n",
      "\u001b[1;38;5;39mCOMET INFO:\u001b[0m     model-element       : 1 (329.73 MB)\n",
      "\u001b[1;38;5;39mCOMET INFO:\u001b[0m     notebook            : 1\n",
      "\u001b[1;38;5;39mCOMET INFO:\u001b[0m     os packages         : 1\n",
      "\u001b[1;38;5;39mCOMET INFO:\u001b[0m     source_code         : 1\n",
      "\u001b[1;38;5;39mCOMET INFO:\u001b[0m \n",
      "\u001b[1;38;5;39mCOMET INFO:\u001b[0m Please wait for assets to finish uploading (timeout is 10800 seconds)\n",
      "\u001b[1;38;5;39mCOMET INFO:\u001b[0m Still uploading 1 file(s), remaining 324.73 MB/329.73 MB\n",
      "\u001b[1;38;5;39mCOMET INFO:\u001b[0m Still uploading 1 asset(s), remaining 229.73 MB/329.73 MB, Throughput 6.33 MB/s, ETA ~37s\n",
      "\u001b[1;38;5;39mCOMET INFO:\u001b[0m Still uploading 1 asset(s), remaining 164.73 MB/329.73 MB, Throughput 4.33 MB/s, ETA ~39s\n",
      "\u001b[1;38;5;39mCOMET INFO:\u001b[0m Still uploading 1 asset(s), remaining 84.73 MB/329.73 MB, Throughput 5.33 MB/s, ETA ~16s\n"
     ]
    },
    {
     "name": "stdout",
     "output_type": "stream",
     "text": [
      "\n"
     ]
    },
    {
     "name": "stderr",
     "output_type": "stream",
     "text": [
      "100%|██████████| 79/79 [00:01<00:00, 57.69it/s]\n",
      "100%|██████████| 79/79 [00:09<00:00,  7.91it/s]\n",
      "100%|██████████| 79/79 [00:09<00:00,  7.92it/s]\n",
      "100%|██████████| 79/79 [00:10<00:00,  7.83it/s]"
     ]
    },
    {
     "name": "stdout",
     "output_type": "stream",
     "text": [
      "\n",
      "\n",
      "Final Metrics:\n",
      " No Attack:\n",
      "   Loss: 1.3230202751159668, Accuracy: 0.525\n",
      " i-FGSM:\n",
      "   Loss: 1.578238966178894, Accuracy: 0.4379\n",
      " PGD:\n",
      "   Loss: 2.553281261062622, Accuracy: 0.1965\n",
      " DI-FGSM:\n",
      "   Loss: 2.497017435836792, Accuracy: 0.2161\n"
     ]
    },
    {
     "name": "stderr",
     "output_type": "stream",
     "text": [
      "\n"
     ]
    }
   ],
   "source": [
    "exp = comet_ml.Experiment(project_name=\"SSL_Adversarial1\")\n",
    "exp.set_name(exp_name)\n",
    "\n",
    "train(model, exp_name, optimizer, NUM_EPOCHS, train_loader, test_loader, is_train_attack_used=\"no\", scheduler=scheduler, exp=exp, env=\"colab\")\n",
    "\n",
    "exp.end()\n",
    "\n",
    "print()\n",
    "test(model, test_loader, env=\"colab\")"
   ]
  },
  {
   "cell_type": "markdown",
   "metadata": {},
   "source": [
    "**MAE (Adversarial SFT with i-FGSM):**"
   ]
  },
  {
   "cell_type": "code",
   "execution_count": 23,
   "metadata": {},
   "outputs": [
    {
     "data": {
      "text/plain": [
       "DownstreamModel(\n",
       "  (encoder): ViTMAEModel(\n",
       "    (embeddings): ViTMAEEmbeddings(\n",
       "      (patch_embeddings): ViTMAEPatchEmbeddings(\n",
       "        (projection): Conv2d(3, 768, kernel_size=(8, 8), stride=(8, 8))\n",
       "      )\n",
       "    )\n",
       "    (encoder): ViTMAEEncoder(\n",
       "      (layer): ModuleList(\n",
       "        (0-11): 12 x ViTMAELayer(\n",
       "          (attention): ViTMAESdpaAttention(\n",
       "            (attention): ViTMAESdpaSelfAttention(\n",
       "              (query): Linear(in_features=768, out_features=768, bias=True)\n",
       "              (key): Linear(in_features=768, out_features=768, bias=True)\n",
       "              (value): Linear(in_features=768, out_features=768, bias=True)\n",
       "              (dropout): Dropout(p=0.0, inplace=False)\n",
       "            )\n",
       "            (output): ViTMAESelfOutput(\n",
       "              (dense): Linear(in_features=768, out_features=768, bias=True)\n",
       "              (dropout): Dropout(p=0.0, inplace=False)\n",
       "            )\n",
       "          )\n",
       "          (intermediate): ViTMAEIntermediate(\n",
       "            (dense): Linear(in_features=768, out_features=3072, bias=True)\n",
       "            (intermediate_act_fn): GELUActivation()\n",
       "          )\n",
       "          (output): ViTMAEOutput(\n",
       "            (dense): Linear(in_features=3072, out_features=768, bias=True)\n",
       "            (dropout): Dropout(p=0.0, inplace=False)\n",
       "          )\n",
       "          (layernorm_before): LayerNorm((768,), eps=1e-12, elementwise_affine=True)\n",
       "          (layernorm_after): LayerNorm((768,), eps=1e-12, elementwise_affine=True)\n",
       "        )\n",
       "      )\n",
       "    )\n",
       "    (layernorm): LayerNorm((768,), eps=1e-12, elementwise_affine=True)\n",
       "  )\n",
       "  (head): Sequential(\n",
       "    (0): Linear(in_features=768, out_features=1536, bias=True)\n",
       "    (1): GELU(approximate='none')\n",
       "    (2): Linear(in_features=1536, out_features=10, bias=True)\n",
       "  )\n",
       ")"
      ]
     },
     "execution_count": 23,
     "metadata": {},
     "output_type": "execute_result"
    }
   ],
   "source": [
    "seed_everything(0)\n",
    "\n",
    "device = torch.device('cuda' if torch.cuda.is_available() else 'cpu')\n",
    "\n",
    "mae_config = ViTMAEConfig.from_pretrained(\"facebook/vit-mae-base\")\n",
    "mae_config.image_size = 32\n",
    "mae_config.patch_size = 8\n",
    "\n",
    "model = ViTMAEForPreTraining(mae_config).to(memory_format=torch.channels_last)\n",
    "model.to(device)\n",
    "\n",
    "model_state_dict = torch.load(\"./weights_MAE_Pretrain_epoch50.pth\", map_location=device, weights_only=False)\n",
    "\n",
    "model.load_state_dict(model_state_dict)\n",
    "\n",
    "# here I take only the backbone of the model and then use it as an encoder in a downstream model \n",
    "encoder = model.vit\n",
    "\n",
    "# initialize new head\n",
    "NUM_CLASSES = 10 # there are 10 classes in CIFAR10\n",
    "HIDDEN_SIZE = 768 # hidden size of MAE\n",
    "\n",
    "head = torch.nn.Sequential(\n",
    "    torch.nn.Linear(HIDDEN_SIZE, 2 * HIDDEN_SIZE),\n",
    "    torch.nn.GELU(),\n",
    "    torch.nn.Linear(2 * HIDDEN_SIZE, NUM_CLASSES)\n",
    ")\n",
    "\n",
    "# create downstream model\n",
    "model = DownstreamModel(encoder=encoder, head=head).to(memory_format=torch.channels_last)\n",
    "model.to(device)"
   ]
  },
  {
   "cell_type": "code",
   "execution_count": 24,
   "metadata": {},
   "outputs": [],
   "source": [
    "comet_ml.login()"
   ]
  },
  {
   "cell_type": "code",
   "execution_count": 25,
   "metadata": {},
   "outputs": [],
   "source": [
    "# choose device for computing\n",
    "device = torch.device('cuda' if torch.cuda.is_available() else 'cpu')"
   ]
  },
  {
   "cell_type": "code",
   "execution_count": 26,
   "metadata": {},
   "outputs": [],
   "source": [
    "NUM_EPOCHS = 10\n",
    "BATCH_SIZE = 128\n",
    "exp_name = \"MAE_Adversarial_SFT_BIM\""
   ]
  },
  {
   "cell_type": "code",
   "execution_count": 27,
   "metadata": {},
   "outputs": [
    {
     "name": "stdout",
     "output_type": "stream",
     "text": [
      "Files already downloaded and verified\n",
      "Prepare Train Set: ✅\n",
      "Prepare Test Set:  ✅\n"
     ]
    }
   ],
   "source": [
    "# random seed\n",
    "seed_everything(0)\n",
    "\n",
    "# get data and batchify it\n",
    "train_loader, test_loader = get_CIFAR10_dataloaders(batch_size=BATCH_SIZE, env=\"colab\")\n",
    "\n",
    "# choose optimizer and scheduler (if needed)\n",
    "optimizer = torch.optim.Adam(model.parameters(), lr=5e-5, weight_decay=1e-4)\n",
    "\n",
    "scheduler = torch.optim.lr_scheduler.CosineAnnealingLR(optimizer, T_max=NUM_EPOCHS)"
   ]
  },
  {
   "cell_type": "code",
   "execution_count": 28,
   "metadata": {},
   "outputs": [
    {
     "name": "stderr",
     "output_type": "stream",
     "text": [
      "\u001b[1;38;5;214mCOMET WARNING:\u001b[0m As you are running in a Jupyter environment, you will need to call `experiment.end()` when finished to ensure all metrics and code are logged before exiting.\n",
      "\u001b[1;38;5;39mCOMET INFO:\u001b[0m Experiment is live on comet.com https://www.comet.com/askoro/ssl-adversarial1/e292173924df4c3f9f1eadf18c9f9102\n",
      "\n",
      "\u001b[1;38;5;39mCOMET INFO:\u001b[0m Couldn't find a Git repository in '/workdir' nor in any parent directory. Set `COMET_GIT_DIRECTORY` if your Git Repository is elsewhere.\n"
     ]
    },
    {
     "name": "stdout",
     "output_type": "stream",
     "text": [
      "Epoch 1:\n",
      "\n"
     ]
    },
    {
     "name": "stderr",
     "output_type": "stream",
     "text": [
      "100%|██████████| 391/391 [00:30<00:00, 12.87it/s]\n",
      "100%|██████████| 79/79 [00:01<00:00, 54.45it/s]\n"
     ]
    },
    {
     "name": "stdout",
     "output_type": "stream",
     "text": [
      "\n",
      "\n",
      " Train:\n",
      "  Loss: 1.6762386400604248, Accuracy: 0.38708\n",
      " Validation:\n",
      "  Loss: 1.5449791828155517, Accuracy: 0.4432\n",
      "🎉🎉🎉 New Best Validation Accuracy 🎉🎉🎉\n",
      "Save State of the Best Model: ✅\n",
      "-----------------------------------------------------------------\n",
      "\n",
      "Epoch 2:\n",
      "\n"
     ]
    },
    {
     "name": "stderr",
     "output_type": "stream",
     "text": [
      "100%|██████████| 391/391 [00:30<00:00, 12.86it/s]\n",
      "100%|██████████| 79/79 [00:01<00:00, 53.40it/s]\n"
     ]
    },
    {
     "name": "stdout",
     "output_type": "stream",
     "text": [
      "\n",
      "\n",
      " Train:\n",
      "  Loss: 1.563928052368164, Accuracy: 0.43024\n",
      " Validation:\n",
      "  Loss: 1.4970064529418945, Accuracy: 0.4582\n",
      "🎉🎉🎉 New Best Validation Accuracy 🎉🎉🎉\n",
      "Save State of the Best Model: ✅\n",
      "Delete State File of the Previous Best Model: ✅\n",
      "-----------------------------------------------------------------\n",
      "\n",
      "Epoch 3:\n",
      "\n"
     ]
    },
    {
     "name": "stderr",
     "output_type": "stream",
     "text": [
      "100%|██████████| 391/391 [00:30<00:00, 12.87it/s]\n",
      "100%|██████████| 79/79 [00:01<00:00, 55.10it/s]\n"
     ]
    },
    {
     "name": "stdout",
     "output_type": "stream",
     "text": [
      "\n",
      "\n",
      " Train:\n",
      "  Loss: 1.5160097381591797, Accuracy: 0.45108\n",
      " Validation:\n",
      "  Loss: 1.461481135559082, Accuracy: 0.4656\n",
      "🎉🎉🎉 New Best Validation Accuracy 🎉🎉🎉\n",
      "Save State of the Best Model: ✅\n",
      "Delete State File of the Previous Best Model: ✅\n",
      "-----------------------------------------------------------------\n",
      "\n",
      "Epoch 4:\n",
      "\n"
     ]
    },
    {
     "name": "stderr",
     "output_type": "stream",
     "text": [
      "100%|██████████| 391/391 [00:30<00:00, 12.87it/s]\n",
      "100%|██████████| 79/79 [00:01<00:00, 57.74it/s]\n"
     ]
    },
    {
     "name": "stdout",
     "output_type": "stream",
     "text": [
      "\n",
      "\n",
      " Train:\n",
      "  Loss: 1.485348969116211, Accuracy: 0.46228\n",
      " Validation:\n",
      "  Loss: 1.4282467357635498, Accuracy: 0.4794\n",
      "🎉🎉🎉 New Best Validation Accuracy 🎉🎉🎉\n",
      "Save State of the Best Model: ✅\n",
      "Delete State File of the Previous Best Model: ✅\n",
      "-----------------------------------------------------------------\n",
      "\n",
      "Epoch 5:\n",
      "\n"
     ]
    },
    {
     "name": "stderr",
     "output_type": "stream",
     "text": [
      "100%|██████████| 391/391 [00:30<00:00, 12.82it/s]\n",
      "100%|██████████| 79/79 [00:01<00:00, 56.60it/s]\n"
     ]
    },
    {
     "name": "stdout",
     "output_type": "stream",
     "text": [
      "\n",
      "\n",
      " Train:\n",
      "  Loss: 1.4453251706314088, Accuracy: 0.47938\n",
      " Validation:\n",
      "  Loss: 1.4097657264709473, Accuracy: 0.4937\n",
      "🎉🎉🎉 New Best Validation Accuracy 🎉🎉🎉\n",
      "Save State of the Best Model: ✅\n",
      "Delete State File of the Previous Best Model: ✅\n",
      "-----------------------------------------------------------------\n",
      "\n",
      "Epoch 6:\n",
      "\n"
     ]
    },
    {
     "name": "stderr",
     "output_type": "stream",
     "text": [
      "100%|██████████| 391/391 [00:30<00:00, 12.89it/s]\n",
      "100%|██████████| 79/79 [00:01<00:00, 52.89it/s]\n"
     ]
    },
    {
     "name": "stdout",
     "output_type": "stream",
     "text": [
      "\n",
      "\n",
      " Train:\n",
      "  Loss: 1.4155428690338134, Accuracy: 0.48728\n",
      " Validation:\n",
      "  Loss: 1.398584023475647, Accuracy: 0.4952\n",
      "🎉🎉🎉 New Best Validation Accuracy 🎉🎉🎉\n",
      "Save State of the Best Model: ✅\n",
      "Delete State File of the Previous Best Model: ✅\n",
      "-----------------------------------------------------------------\n",
      "\n",
      "Epoch 7:\n",
      "\n"
     ]
    },
    {
     "name": "stderr",
     "output_type": "stream",
     "text": [
      "100%|██████████| 391/391 [00:30<00:00, 12.90it/s]\n",
      "100%|██████████| 79/79 [00:01<00:00, 56.23it/s]\n"
     ]
    },
    {
     "name": "stdout",
     "output_type": "stream",
     "text": [
      "\n",
      "\n",
      " Train:\n",
      "  Loss: 1.3823496563339233, Accuracy: 0.5034\n",
      " Validation:\n",
      "  Loss: 1.3563963306427003, Accuracy: 0.5162\n",
      "🎉🎉🎉 New Best Validation Accuracy 🎉🎉🎉\n",
      "Save State of the Best Model: ✅\n",
      "Delete State File of the Previous Best Model: ✅\n",
      "-----------------------------------------------------------------\n",
      "\n",
      "Epoch 8:\n",
      "\n"
     ]
    },
    {
     "name": "stderr",
     "output_type": "stream",
     "text": [
      "100%|██████████| 391/391 [00:30<00:00, 12.85it/s]\n",
      "100%|██████████| 79/79 [00:01<00:00, 51.67it/s]\n"
     ]
    },
    {
     "name": "stdout",
     "output_type": "stream",
     "text": [
      "\n",
      "\n",
      " Train:\n",
      "  Loss: 1.354826964378357, Accuracy: 0.51076\n",
      " Validation:\n",
      "  Loss: 1.3461150621414184, Accuracy: 0.5126\n",
      "-----------------------------------------------------------------\n",
      "\n",
      "Epoch 9:\n",
      "\n"
     ]
    },
    {
     "name": "stderr",
     "output_type": "stream",
     "text": [
      "100%|██████████| 391/391 [00:30<00:00, 12.85it/s]\n",
      "100%|██████████| 79/79 [00:01<00:00, 55.61it/s]\n"
     ]
    },
    {
     "name": "stdout",
     "output_type": "stream",
     "text": [
      "\n",
      "\n",
      " Train:\n",
      "  Loss: 1.3283015851211548, Accuracy: 0.52066\n",
      " Validation:\n",
      "  Loss: 1.3452611541748047, Accuracy: 0.5158\n",
      "-----------------------------------------------------------------\n",
      "\n",
      "Epoch 10:\n",
      "\n"
     ]
    },
    {
     "name": "stderr",
     "output_type": "stream",
     "text": [
      "100%|██████████| 391/391 [00:30<00:00, 12.87it/s]\n",
      "100%|██████████| 79/79 [00:01<00:00, 55.89it/s]\n"
     ]
    },
    {
     "name": "stdout",
     "output_type": "stream",
     "text": [
      "\n",
      "\n",
      " Train:\n",
      "  Loss: 1.324295258102417, Accuracy: 0.5202\n",
      " Validation:\n",
      "  Loss: 1.3419679927825927, Accuracy: 0.5157\n",
      "-----------------------------------------------------------------\n",
      "\n"
     ]
    },
    {
     "name": "stderr",
     "output_type": "stream",
     "text": [
      "\u001b[1;38;5;39mCOMET INFO:\u001b[0m ---------------------------------------------------------------------------------------\n",
      "\u001b[1;38;5;39mCOMET INFO:\u001b[0m Comet.ml Experiment Summary\n",
      "\u001b[1;38;5;39mCOMET INFO:\u001b[0m ---------------------------------------------------------------------------------------\n",
      "\u001b[1;38;5;39mCOMET INFO:\u001b[0m   Data:\n",
      "\u001b[1;38;5;39mCOMET INFO:\u001b[0m     display_summary_level : 1\n",
      "\u001b[1;38;5;39mCOMET INFO:\u001b[0m     name                  : MAE_Adversarial_SFT_BIM\n",
      "\u001b[1;38;5;39mCOMET INFO:\u001b[0m     url                   : https://www.comet.com/askoro/ssl-adversarial1/e292173924df4c3f9f1eadf18c9f9102\n",
      "\u001b[1;38;5;39mCOMET INFO:\u001b[0m   Metrics [count] (min, max):\n",
      "\u001b[1;38;5;39mCOMET INFO:\u001b[0m     loss [392]                           : (84278.515625, 210467.96875)\n",
      "\u001b[1;38;5;39mCOMET INFO:\u001b[0m     train accuracy [10]                  : (0.38708, 0.52066)\n",
      "\u001b[1;38;5;39mCOMET INFO:\u001b[0m     train loss (by steps) [3910]         : (1.0689847469329834, 2.3407745361328125)\n",
      "\u001b[1;38;5;39mCOMET INFO:\u001b[0m     train loss [10]                      : (1.324295258102417, 1.6762386400604248)\n",
      "\u001b[1;38;5;39mCOMET INFO:\u001b[0m     validation accuracy (No Attack) [10] : (0.4432, 0.5162)\n",
      "\u001b[1;38;5;39mCOMET INFO:\u001b[0m     validation loss (No Attack) [10]     : (1.3419679927825927, 1.5449791828155517)\n",
      "\u001b[1;38;5;39mCOMET INFO:\u001b[0m   Others:\n",
      "\u001b[1;38;5;39mCOMET INFO:\u001b[0m     Name : MAE_Adversarial_SFT_BIM\n",
      "\u001b[1;38;5;39mCOMET INFO:\u001b[0m   Uploads:\n",
      "\u001b[1;38;5;39mCOMET INFO:\u001b[0m     environment details : 1\n",
      "\u001b[1;38;5;39mCOMET INFO:\u001b[0m     filename            : 1\n",
      "\u001b[1;38;5;39mCOMET INFO:\u001b[0m     installed packages  : 1\n",
      "\u001b[1;38;5;39mCOMET INFO:\u001b[0m     model graph         : 1\n",
      "\u001b[1;38;5;39mCOMET INFO:\u001b[0m     model-element       : 1 (329.73 MB)\n",
      "\u001b[1;38;5;39mCOMET INFO:\u001b[0m     notebook            : 1\n",
      "\u001b[1;38;5;39mCOMET INFO:\u001b[0m     os packages         : 1\n",
      "\u001b[1;38;5;39mCOMET INFO:\u001b[0m     source_code         : 1\n",
      "\u001b[1;38;5;39mCOMET INFO:\u001b[0m \n",
      "\u001b[1;38;5;39mCOMET INFO:\u001b[0m Please wait for assets to finish uploading (timeout is 10800 seconds)\n",
      "\u001b[1;38;5;39mCOMET INFO:\u001b[0m Still uploading 1 file(s), remaining 329.73 MB/329.73 MB\n",
      "\u001b[1;38;5;39mCOMET INFO:\u001b[0m Still uploading 1 asset(s), remaining 239.73 MB/329.73 MB, Throughput 5.99 MB/s, ETA ~40s\n",
      "\u001b[1;38;5;39mCOMET INFO:\u001b[0m Still uploading 1 asset(s), remaining 169.73 MB/329.73 MB, Throughput 4.66 MB/s, ETA ~37s\n",
      "\u001b[1;38;5;39mCOMET INFO:\u001b[0m Still uploading 1 asset(s), remaining 94.73 MB/329.73 MB, Throughput 4.99 MB/s, ETA ~19s\n",
      "\u001b[1;38;5;39mCOMET INFO:\u001b[0m Still uploading 1 asset(s), remaining 19.73 MB/329.73 MB, Throughput 4.99 MB/s, ETA ~4s\n"
     ]
    },
    {
     "name": "stdout",
     "output_type": "stream",
     "text": [
      "\n"
     ]
    },
    {
     "name": "stderr",
     "output_type": "stream",
     "text": [
      "100%|██████████| 79/79 [00:01<00:00, 55.43it/s]\n",
      "100%|██████████| 79/79 [00:10<00:00,  7.88it/s]\n",
      "100%|██████████| 79/79 [00:09<00:00,  7.91it/s]\n",
      "100%|██████████| 79/79 [00:10<00:00,  7.81it/s]"
     ]
    },
    {
     "name": "stdout",
     "output_type": "stream",
     "text": [
      "\n",
      "\n",
      "Final Metrics:\n",
      " No Attack:\n",
      "   Loss: 1.3359559963226317, Accuracy: 0.5199\n",
      " i-FGSM:\n",
      "   Loss: 1.4854160963058471, Accuracy: 0.4658\n",
      " PGD:\n",
      "   Loss: 2.3496190362930296, Accuracy: 0.2346\n",
      " DI-FGSM:\n",
      "   Loss: 2.34633367729187, Accuracy: 0.2319\n"
     ]
    },
    {
     "name": "stderr",
     "output_type": "stream",
     "text": [
      "\n"
     ]
    }
   ],
   "source": [
    "exp = comet_ml.Experiment(project_name=\"SSL_Adversarial1\")\n",
    "exp.set_name(exp_name)\n",
    "\n",
    "train(model, exp_name, optimizer, NUM_EPOCHS, train_loader, test_loader, is_train_attack_used=\"BIM\", scheduler=scheduler, exp=exp, env=\"colab\")\n",
    "\n",
    "exp.end()\n",
    "\n",
    "print()\n",
    "test(model, test_loader, env=\"colab\")"
   ]
  },
  {
   "cell_type": "code",
   "execution_count": 29,
   "metadata": {},
   "outputs": [
    {
     "name": "stderr",
     "output_type": "stream",
     "text": [
      "100%|██████████| 79/79 [00:01<00:00, 57.23it/s]\n",
      "100%|██████████| 79/79 [00:10<00:00,  7.88it/s]\n",
      "100%|██████████| 79/79 [00:09<00:00,  7.93it/s]\n",
      "100%|██████████| 79/79 [00:10<00:00,  7.77it/s]"
     ]
    },
    {
     "name": "stdout",
     "output_type": "stream",
     "text": [
      "\n",
      "\n",
      "Final Metrics:\n",
      " No Attack:\n",
      "   Loss: 1.3388384386062622, Accuracy: 0.519\n",
      " i-FGSM:\n",
      "   Loss: 1.475374172782898, Accuracy: 0.4713\n",
      " PGD:\n",
      "   Loss: 2.3680355110168456, Accuracy: 0.2268\n",
      " DI-FGSM:\n",
      "   Loss: 2.3492963069915773, Accuracy: 0.2371\n"
     ]
    },
    {
     "name": "stderr",
     "output_type": "stream",
     "text": [
      "\n"
     ]
    }
   ],
   "source": [
    "test(model, test_loader, env=\"colab\")"
   ]
  },
  {
   "cell_type": "markdown",
   "metadata": {},
   "source": [
    "**MAE (Adversarial SFT with PGD):**"
   ]
  },
  {
   "cell_type": "code",
   "execution_count": 30,
   "metadata": {},
   "outputs": [
    {
     "data": {
      "text/plain": [
       "DownstreamModel(\n",
       "  (encoder): ViTMAEModel(\n",
       "    (embeddings): ViTMAEEmbeddings(\n",
       "      (patch_embeddings): ViTMAEPatchEmbeddings(\n",
       "        (projection): Conv2d(3, 768, kernel_size=(8, 8), stride=(8, 8))\n",
       "      )\n",
       "    )\n",
       "    (encoder): ViTMAEEncoder(\n",
       "      (layer): ModuleList(\n",
       "        (0-11): 12 x ViTMAELayer(\n",
       "          (attention): ViTMAESdpaAttention(\n",
       "            (attention): ViTMAESdpaSelfAttention(\n",
       "              (query): Linear(in_features=768, out_features=768, bias=True)\n",
       "              (key): Linear(in_features=768, out_features=768, bias=True)\n",
       "              (value): Linear(in_features=768, out_features=768, bias=True)\n",
       "              (dropout): Dropout(p=0.0, inplace=False)\n",
       "            )\n",
       "            (output): ViTMAESelfOutput(\n",
       "              (dense): Linear(in_features=768, out_features=768, bias=True)\n",
       "              (dropout): Dropout(p=0.0, inplace=False)\n",
       "            )\n",
       "          )\n",
       "          (intermediate): ViTMAEIntermediate(\n",
       "            (dense): Linear(in_features=768, out_features=3072, bias=True)\n",
       "            (intermediate_act_fn): GELUActivation()\n",
       "          )\n",
       "          (output): ViTMAEOutput(\n",
       "            (dense): Linear(in_features=3072, out_features=768, bias=True)\n",
       "            (dropout): Dropout(p=0.0, inplace=False)\n",
       "          )\n",
       "          (layernorm_before): LayerNorm((768,), eps=1e-12, elementwise_affine=True)\n",
       "          (layernorm_after): LayerNorm((768,), eps=1e-12, elementwise_affine=True)\n",
       "        )\n",
       "      )\n",
       "    )\n",
       "    (layernorm): LayerNorm((768,), eps=1e-12, elementwise_affine=True)\n",
       "  )\n",
       "  (head): Sequential(\n",
       "    (0): Linear(in_features=768, out_features=1536, bias=True)\n",
       "    (1): GELU(approximate='none')\n",
       "    (2): Linear(in_features=1536, out_features=10, bias=True)\n",
       "  )\n",
       ")"
      ]
     },
     "execution_count": 30,
     "metadata": {},
     "output_type": "execute_result"
    }
   ],
   "source": [
    "seed_everything(0)\n",
    "\n",
    "device = torch.device('cuda' if torch.cuda.is_available() else 'cpu')\n",
    "\n",
    "mae_config = ViTMAEConfig.from_pretrained(\"facebook/vit-mae-base\")\n",
    "mae_config.image_size = 32\n",
    "mae_config.patch_size = 8\n",
    "\n",
    "model = ViTMAEForPreTraining(mae_config).to(memory_format=torch.channels_last)\n",
    "model.to(device)\n",
    "\n",
    "model_state_dict = torch.load(\"./weights_MAE_Pretrain_epoch50.pth\", map_location=device, weights_only=False)\n",
    "\n",
    "model.load_state_dict(model_state_dict)\n",
    "\n",
    "# here I take only the backbone of the model and then use it as an encoder in a downstream model \n",
    "encoder = model.vit\n",
    "\n",
    "# initialize new head\n",
    "NUM_CLASSES = 10 # there are 10 classes in CIFAR10\n",
    "HIDDEN_SIZE = 768 # hidden size of MAE\n",
    "\n",
    "head = torch.nn.Sequential(\n",
    "    torch.nn.Linear(HIDDEN_SIZE, 2 * HIDDEN_SIZE),\n",
    "    torch.nn.GELU(),\n",
    "    torch.nn.Linear(2 * HIDDEN_SIZE, NUM_CLASSES)\n",
    ")\n",
    "\n",
    "# create downstream model\n",
    "model = DownstreamModel(encoder=encoder, head=head).to(memory_format=torch.channels_last)\n",
    "model.to(device)"
   ]
  },
  {
   "cell_type": "code",
   "execution_count": 31,
   "metadata": {},
   "outputs": [],
   "source": [
    "comet_ml.login()"
   ]
  },
  {
   "cell_type": "code",
   "execution_count": 32,
   "metadata": {},
   "outputs": [],
   "source": [
    "# choose device for computing\n",
    "device = torch.device('cuda' if torch.cuda.is_available() else 'cpu')"
   ]
  },
  {
   "cell_type": "code",
   "execution_count": 33,
   "metadata": {},
   "outputs": [],
   "source": [
    "NUM_EPOCHS = 10\n",
    "BATCH_SIZE = 128\n",
    "exp_name = \"MAE_Adversarial_SFT_PGD\""
   ]
  },
  {
   "cell_type": "code",
   "execution_count": 34,
   "metadata": {},
   "outputs": [
    {
     "name": "stdout",
     "output_type": "stream",
     "text": [
      "Files already downloaded and verified\n",
      "Prepare Train Set: ✅\n",
      "Prepare Test Set:  ✅\n"
     ]
    }
   ],
   "source": [
    "# random seed\n",
    "seed_everything(0)\n",
    "\n",
    "# get data and batchify it\n",
    "train_loader, test_loader = get_CIFAR10_dataloaders(batch_size=BATCH_SIZE, env=\"colab\")\n",
    "\n",
    "# choose optimizer and scheduler (if needed)\n",
    "optimizer = torch.optim.Adam(model.parameters(), lr=5e-5, weight_decay=1e-4)\n",
    "\n",
    "scheduler = torch.optim.lr_scheduler.CosineAnnealingLR(optimizer, T_max=NUM_EPOCHS)"
   ]
  },
  {
   "cell_type": "code",
   "execution_count": 35,
   "metadata": {},
   "outputs": [
    {
     "name": "stderr",
     "output_type": "stream",
     "text": [
      "\u001b[1;38;5;214mCOMET WARNING:\u001b[0m As you are running in a Jupyter environment, you will need to call `experiment.end()` when finished to ensure all metrics and code are logged before exiting.\n",
      "\u001b[1;38;5;39mCOMET INFO:\u001b[0m Experiment is live on comet.com https://www.comet.com/askoro/ssl-adversarial1/ec5e0ff1868546649864368bb483eb77\n",
      "\n",
      "\u001b[1;38;5;39mCOMET INFO:\u001b[0m Couldn't find a Git repository in '/workdir' nor in any parent directory. Set `COMET_GIT_DIRECTORY` if your Git Repository is elsewhere.\n"
     ]
    },
    {
     "name": "stdout",
     "output_type": "stream",
     "text": [
      "Epoch 1:\n",
      "\n"
     ]
    },
    {
     "name": "stderr",
     "output_type": "stream",
     "text": [
      "100%|██████████| 391/391 [00:30<00:00, 12.84it/s]\n",
      "100%|██████████| 79/79 [00:01<00:00, 54.63it/s]\n"
     ]
    },
    {
     "name": "stdout",
     "output_type": "stream",
     "text": [
      "\n",
      "\n",
      " Train:\n",
      "  Loss: 1.8927465064239501, Accuracy: 0.3063\n",
      " Validation:\n",
      "  Loss: 1.7694414241790772, Accuracy: 0.3567\n",
      "🎉🎉🎉 New Best Validation Accuracy 🎉🎉🎉\n",
      "Save State of the Best Model: ✅\n",
      "-----------------------------------------------------------------\n",
      "\n",
      "Epoch 2:\n",
      "\n"
     ]
    },
    {
     "name": "stderr",
     "output_type": "stream",
     "text": [
      "100%|██████████| 391/391 [00:30<00:00, 12.94it/s]\n",
      "100%|██████████| 79/79 [00:01<00:00, 54.81it/s]\n"
     ]
    },
    {
     "name": "stdout",
     "output_type": "stream",
     "text": [
      "\n",
      "\n",
      " Train:\n",
      "  Loss: 1.8047071045684815, Accuracy: 0.34218\n",
      " Validation:\n",
      "  Loss: 1.8203691749572755, Accuracy: 0.3279\n",
      "-----------------------------------------------------------------\n",
      "\n",
      "Epoch 3:\n",
      "\n"
     ]
    },
    {
     "name": "stderr",
     "output_type": "stream",
     "text": [
      "100%|██████████| 391/391 [00:30<00:00, 12.85it/s]\n",
      "100%|██████████| 79/79 [00:01<00:00, 54.39it/s]\n"
     ]
    },
    {
     "name": "stdout",
     "output_type": "stream",
     "text": [
      "\n",
      "\n",
      " Train:\n",
      "  Loss: 1.7677941967391968, Accuracy: 0.35566\n",
      " Validation:\n",
      "  Loss: 1.8052504636764526, Accuracy: 0.3399\n",
      "-----------------------------------------------------------------\n",
      "\n",
      "Epoch 4:\n",
      "\n"
     ]
    },
    {
     "name": "stderr",
     "output_type": "stream",
     "text": [
      "100%|██████████| 391/391 [00:30<00:00, 12.84it/s]\n",
      "100%|██████████| 79/79 [00:01<00:00, 55.08it/s]\n"
     ]
    },
    {
     "name": "stdout",
     "output_type": "stream",
     "text": [
      "\n",
      "\n",
      " Train:\n",
      "  Loss: 1.7365101251983643, Accuracy: 0.36912\n",
      " Validation:\n",
      "  Loss: 1.7953552499771117, Accuracy: 0.3499\n",
      "-----------------------------------------------------------------\n",
      "\n",
      "Epoch 5:\n",
      "\n"
     ]
    },
    {
     "name": "stderr",
     "output_type": "stream",
     "text": [
      "100%|██████████| 391/391 [00:30<00:00, 12.88it/s]\n",
      "100%|██████████| 79/79 [00:01<00:00, 55.56it/s]\n"
     ]
    },
    {
     "name": "stdout",
     "output_type": "stream",
     "text": [
      "\n",
      "\n",
      " Train:\n",
      "  Loss: 1.7173228229522706, Accuracy: 0.37348\n",
      " Validation:\n",
      "  Loss: 1.847513271331787, Accuracy: 0.3187\n",
      "-----------------------------------------------------------------\n",
      "\n",
      "Epoch 6:\n",
      "\n"
     ]
    },
    {
     "name": "stderr",
     "output_type": "stream",
     "text": [
      "100%|██████████| 391/391 [00:30<00:00, 12.83it/s]\n",
      "100%|██████████| 79/79 [00:01<00:00, 54.27it/s]\n"
     ]
    },
    {
     "name": "stdout",
     "output_type": "stream",
     "text": [
      "\n",
      "\n",
      " Train:\n",
      "  Loss: 1.6861127822494506, Accuracy: 0.38666\n",
      " Validation:\n",
      "  Loss: 1.8419863262176515, Accuracy: 0.3255\n",
      "-----------------------------------------------------------------\n",
      "\n",
      "Epoch 7:\n",
      "\n"
     ]
    },
    {
     "name": "stderr",
     "output_type": "stream",
     "text": [
      "100%|██████████| 391/391 [00:30<00:00, 12.88it/s]\n",
      "100%|██████████| 79/79 [00:01<00:00, 54.56it/s]\n"
     ]
    },
    {
     "name": "stdout",
     "output_type": "stream",
     "text": [
      "\n",
      "\n",
      " Train:\n",
      "  Loss: 1.6582568560791016, Accuracy: 0.39982\n",
      " Validation:\n",
      "  Loss: 1.8748002002716064, Accuracy: 0.3118\n",
      "-----------------------------------------------------------------\n",
      "\n",
      "Epoch 8:\n",
      "\n"
     ]
    },
    {
     "name": "stderr",
     "output_type": "stream",
     "text": [
      "100%|██████████| 391/391 [00:30<00:00, 12.81it/s]\n",
      "100%|██████████| 79/79 [00:01<00:00, 54.02it/s]\n"
     ]
    },
    {
     "name": "stdout",
     "output_type": "stream",
     "text": [
      "\n",
      "\n",
      " Train:\n",
      "  Loss: 1.6434990295410157, Accuracy: 0.40342\n",
      " Validation:\n",
      "  Loss: 1.8768162450790404, Accuracy: 0.3082\n",
      "-----------------------------------------------------------------\n",
      "\n",
      "Epoch 9:\n",
      "\n"
     ]
    },
    {
     "name": "stderr",
     "output_type": "stream",
     "text": [
      "100%|██████████| 391/391 [00:30<00:00, 12.94it/s]\n",
      "100%|██████████| 79/79 [00:01<00:00, 56.07it/s]\n"
     ]
    },
    {
     "name": "stdout",
     "output_type": "stream",
     "text": [
      "\n",
      "\n",
      " Train:\n",
      "  Loss: 1.6241183868026734, Accuracy: 0.41154\n",
      " Validation:\n",
      "  Loss: 1.9094309968948364, Accuracy: 0.3067\n",
      "-----------------------------------------------------------------\n",
      "\n",
      "Epoch 10:\n",
      "\n"
     ]
    },
    {
     "name": "stderr",
     "output_type": "stream",
     "text": [
      "100%|██████████| 391/391 [00:30<00:00, 12.82it/s]\n",
      "100%|██████████| 79/79 [00:01<00:00, 54.91it/s]\n"
     ]
    },
    {
     "name": "stdout",
     "output_type": "stream",
     "text": [
      "\n",
      "\n",
      " Train:\n",
      "  Loss: 1.611339677734375, Accuracy: 0.4185\n",
      " Validation:\n",
      "  Loss: 1.9045633159637452, Accuracy: 0.3031\n",
      "-----------------------------------------------------------------\n",
      "\n"
     ]
    },
    {
     "name": "stderr",
     "output_type": "stream",
     "text": [
      "\u001b[1;38;5;39mCOMET INFO:\u001b[0m ---------------------------------------------------------------------------------------\n",
      "\u001b[1;38;5;39mCOMET INFO:\u001b[0m Comet.ml Experiment Summary\n",
      "\u001b[1;38;5;39mCOMET INFO:\u001b[0m ---------------------------------------------------------------------------------------\n",
      "\u001b[1;38;5;39mCOMET INFO:\u001b[0m   Data:\n",
      "\u001b[1;38;5;39mCOMET INFO:\u001b[0m     display_summary_level : 1\n",
      "\u001b[1;38;5;39mCOMET INFO:\u001b[0m     name                  : MAE_Adversarial_SFT_PGD\n",
      "\u001b[1;38;5;39mCOMET INFO:\u001b[0m     url                   : https://www.comet.com/askoro/ssl-adversarial1/ec5e0ff1868546649864368bb483eb77\n",
      "\u001b[1;38;5;39mCOMET INFO:\u001b[0m   Metrics [count] (min, max):\n",
      "\u001b[1;38;5;39mCOMET INFO:\u001b[0m     loss [392]                           : (98887.84375, 243138.6875)\n",
      "\u001b[1;38;5;39mCOMET INFO:\u001b[0m     train accuracy [10]                  : (0.3063, 0.4185)\n",
      "\u001b[1;38;5;39mCOMET INFO:\u001b[0m     train loss (by steps) [3910]         : (1.3626270294189453, 2.3716888427734375)\n",
      "\u001b[1;38;5;39mCOMET INFO:\u001b[0m     train loss [10]                      : (1.611339677734375, 1.8927465064239501)\n",
      "\u001b[1;38;5;39mCOMET INFO:\u001b[0m     validation accuracy (No Attack) [10] : (0.3031, 0.3567)\n",
      "\u001b[1;38;5;39mCOMET INFO:\u001b[0m     validation loss (No Attack) [10]     : (1.7694414241790772, 1.9094309968948364)\n",
      "\u001b[1;38;5;39mCOMET INFO:\u001b[0m   Others:\n",
      "\u001b[1;38;5;39mCOMET INFO:\u001b[0m     Name : MAE_Adversarial_SFT_PGD\n",
      "\u001b[1;38;5;39mCOMET INFO:\u001b[0m   Uploads:\n",
      "\u001b[1;38;5;39mCOMET INFO:\u001b[0m     environment details : 1\n",
      "\u001b[1;38;5;39mCOMET INFO:\u001b[0m     filename            : 1\n",
      "\u001b[1;38;5;39mCOMET INFO:\u001b[0m     installed packages  : 1\n",
      "\u001b[1;38;5;39mCOMET INFO:\u001b[0m     model graph         : 1\n",
      "\u001b[1;38;5;39mCOMET INFO:\u001b[0m     model-element       : 1 (329.73 MB)\n",
      "\u001b[1;38;5;39mCOMET INFO:\u001b[0m     notebook            : 1\n",
      "\u001b[1;38;5;39mCOMET INFO:\u001b[0m     os packages         : 1\n",
      "\u001b[1;38;5;39mCOMET INFO:\u001b[0m     source_code         : 1\n",
      "\u001b[1;38;5;39mCOMET INFO:\u001b[0m \n",
      "\u001b[1;38;5;39mCOMET INFO:\u001b[0m Please wait for assets to finish uploading (timeout is 10800 seconds)\n",
      "\u001b[1;38;5;39mCOMET INFO:\u001b[0m Still uploading 1 file(s), remaining 329.73 MB/329.73 MB\n",
      "\u001b[1;38;5;39mCOMET INFO:\u001b[0m Still uploading 1 asset(s), remaining 279.73 MB/329.73 MB, Throughput 3.33 MB/s, ETA ~85s\n",
      "\u001b[1;38;5;39mCOMET INFO:\u001b[0m Still uploading 1 asset(s), remaining 224.73 MB/329.73 MB, Throughput 3.66 MB/s, ETA ~62s\n",
      "\u001b[1;38;5;39mCOMET INFO:\u001b[0m Still uploading 1 asset(s), remaining 179.73 MB/329.73 MB, Throughput 3.00 MB/s, ETA ~60s\n",
      "\u001b[1;38;5;39mCOMET INFO:\u001b[0m Still uploading 1 asset(s), remaining 144.73 MB/329.73 MB, Throughput 2.33 MB/s, ETA ~63s\n",
      "\u001b[1;38;5;39mCOMET INFO:\u001b[0m Still uploading 1 asset(s), remaining 109.73 MB/329.73 MB, Throughput 2.33 MB/s, ETA ~48s\n",
      "\u001b[1;38;5;39mCOMET INFO:\u001b[0m Still uploading 1 asset(s), remaining 79.73 MB/329.73 MB, Throughput 2.00 MB/s, ETA ~40s\n",
      "\u001b[1;38;5;39mCOMET INFO:\u001b[0m Still uploading 1 asset(s), remaining 54.73 MB/329.73 MB, Throughput 1.66 MB/s, ETA ~33s\n",
      "\u001b[1;38;5;39mCOMET INFO:\u001b[0m Still uploading 1 asset(s), remaining 24.73 MB/329.73 MB, Throughput 2.00 MB/s, ETA ~13s\n"
     ]
    },
    {
     "name": "stdout",
     "output_type": "stream",
     "text": [
      "\n"
     ]
    },
    {
     "name": "stderr",
     "output_type": "stream",
     "text": [
      "100%|██████████| 79/79 [00:01<00:00, 57.91it/s]\n",
      "100%|██████████| 79/79 [00:10<00:00,  7.82it/s]\n",
      "100%|██████████| 79/79 [00:09<00:00,  7.90it/s]\n",
      "100%|██████████| 79/79 [00:10<00:00,  7.74it/s]"
     ]
    },
    {
     "name": "stdout",
     "output_type": "stream",
     "text": [
      "\n",
      "\n",
      "Final Metrics:\n",
      " No Attack:\n",
      "   Loss: 1.8994468881607056, Accuracy: 0.3052\n",
      " i-FGSM:\n",
      "   Loss: 2.0006841358184815, Accuracy: 0.2757\n",
      " PGD:\n",
      "   Loss: 1.7425093286514282, Accuracy: 0.3673\n",
      " DI-FGSM:\n",
      "   Loss: 1.7365117275238038, Accuracy: 0.3769\n"
     ]
    },
    {
     "name": "stderr",
     "output_type": "stream",
     "text": [
      "\n"
     ]
    }
   ],
   "source": [
    "exp = comet_ml.Experiment(project_name=\"SSL_Adversarial1\")\n",
    "exp.set_name(exp_name)\n",
    "\n",
    "train(model, exp_name, optimizer, NUM_EPOCHS, train_loader, test_loader, is_train_attack_used=\"PGD\", scheduler=scheduler, exp=exp, env=\"colab\")\n",
    "\n",
    "exp.end()\n",
    "\n",
    "print()\n",
    "test(model, test_loader, env=\"colab\")"
   ]
  }
 ],
 "metadata": {
  "kaggle": {
   "accelerator": "none",
   "dataSources": [],
   "dockerImageVersionId": 30823,
   "isGpuEnabled": false,
   "isInternetEnabled": true,
   "language": "python",
   "sourceType": "notebook"
  },
  "kernelspec": {
   "display_name": "Python 3 (ipykernel)",
   "language": "python",
   "name": "python3"
  },
  "language_info": {
   "codemirror_mode": {
    "name": "ipython",
    "version": 3
   },
   "file_extension": ".py",
   "mimetype": "text/x-python",
   "name": "python",
   "nbconvert_exporter": "python",
   "pygments_lexer": "ipython3",
   "version": "3.10.12"
  }
 },
 "nbformat": 4,
 "nbformat_minor": 4
}
